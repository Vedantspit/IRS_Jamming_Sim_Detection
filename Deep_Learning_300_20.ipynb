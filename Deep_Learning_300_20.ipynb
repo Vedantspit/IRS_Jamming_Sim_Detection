{
 "cells": [
  {
   "cell_type": "code",
   "execution_count": 5,
   "metadata": {
    "_cell_guid": "b1076dfc-b9ad-4769-8c92-a6c4dae69d19",
    "_uuid": "8f2839f25d086af736a60e9eeb907d3b93b6e0e5",
    "execution": {
     "iopub.execute_input": "2025-07-25T14:59:00.011459Z",
     "iopub.status.busy": "2025-07-25T14:59:00.011170Z",
     "iopub.status.idle": "2025-07-25T14:59:01.076123Z",
     "shell.execute_reply": "2025-07-25T14:59:01.074400Z",
     "shell.execute_reply.started": "2025-07-25T14:59:00.011434Z"
    },
    "trusted": true
   },
   "outputs": [],
   "source": [
    "# This Python 3 environment comes with many helpful analytics libraries installed\n",
    "# It is defined by the kaggle/python Docker image: https://github.com/kaggle/docker-python\n",
    "# For example, here's several helpful packages to load\n",
    "\n",
    "import numpy as np # linear algebra\n",
    "import pandas as pd # data processing, CSV file I/O (e.g. pd.read_csv)\n",
    "\n",
    "# Input data files are available in the read-only \"../input/\" directory\n",
    "# For example, running this (by clicking run or pressing Shift+Enter) will list all files under the input directory\n",
    "\n",
    "import os\n",
    "# for dirname, _, filenames in os.walk('/kaggle/input'):\n",
    "#     for filename in filenames:\n",
    "#         print(os.path.join(dirname, filename))\n",
    "\n",
    "# You can write up to 20GB to the current directory (/kaggle/working/) that gets preserved as output when you create a version using \"Save & Run All\" \n",
    "# You can also write temporary files to /kaggle/temp/, but they won't be saved outside of the current session"
   ]
  },
  {
   "cell_type": "code",
   "execution_count": 6,
   "metadata": {
    "execution": {
     "iopub.execute_input": "2025-07-25T14:59:26.596605Z",
     "iopub.status.busy": "2025-07-25T14:59:26.596173Z",
     "iopub.status.idle": "2025-07-25T14:59:47.065342Z",
     "shell.execute_reply": "2025-07-25T14:59:47.063931Z",
     "shell.execute_reply.started": "2025-07-25T14:59:26.596573Z"
    },
    "trusted": true
   },
   "outputs": [],
   "source": [
    "import pandas as pd\n",
    "import numpy as np\n",
    "from collections import Counter\n",
    "from sklearn.model_selection import train_test_split\n",
    "from sklearn.utils import class_weight\n",
    "from sklearn.metrics import confusion_matrix, ConfusionMatrixDisplay\n",
    "import matplotlib.pyplot as plt\n",
    "\n",
    "from tensorflow.keras.models import Model\n",
    "from tensorflow.keras.layers import (\n",
    "    Input, Conv1D, BatchNormalization, Dropout, LSTM, Dense,\n",
    "    Concatenate, GaussianNoise\n",
    ")\n",
    "from tensorflow.keras.regularizers import l2\n",
    "from tensorflow.keras.utils import to_categorical\n",
    "from tensorflow.keras.optimizers import Adam\n",
    "from tensorflow.keras.callbacks import EarlyStopping, ReduceLROnPlateau"
   ]
  },
  {
   "cell_type": "code",
   "execution_count": 7,
   "metadata": {
    "execution": {
     "iopub.execute_input": "2025-07-25T14:59:51.733567Z",
     "iopub.status.busy": "2025-07-25T14:59:51.732940Z",
     "iopub.status.idle": "2025-07-25T14:59:51.743680Z",
     "shell.execute_reply": "2025-07-25T14:59:51.742445Z",
     "shell.execute_reply.started": "2025-07-25T14:59:51.733529Z"
    },
    "trusted": true
   },
   "outputs": [],
   "source": [
    "# --- CONFIG ---\n",
    "SEQ_LEN = 300\n",
    "STEP = 20\n",
    "BATCH_SIZE = 32\n",
    "EPOCHS = 50\n",
    "\n",
    "def load_sequences_from_csv(path, label, seq_len=SEQ_LEN, step=STEP):\n",
    "    df = pd.read_csv(path)\n",
    "    df = df.dropna(subset=[\"SINR(dB)\", \"PathLoss_dB\"])\n",
    "    \n",
    "    sinr = df[\"SINR(dB)\"].values.astype(np.float32)\n",
    "    rssi = df[\"PathLoss_dB\"].values.astype(np.float32)\n",
    "    \n",
    "    # Normalize\n",
    "    sinr = (sinr - np.mean(sinr)) / (np.std(sinr) + 1e-6)\n",
    "    rssi = (rssi - np.mean(rssi)) / (np.std(rssi) + 1e-6)\n",
    "    \n",
    "    sinr_sequences, rssi_sequences, labels = [], [], []\n",
    "    for i in range(0, len(sinr) - seq_len + 1, step):\n",
    "        sinr_seq = sinr[i:i+seq_len][:, np.newaxis]\n",
    "        rssi_seq = rssi[i:i+seq_len][:, np.newaxis]\n",
    "        sinr_sequences.append(sinr_seq)\n",
    "        rssi_sequences.append(rssi_seq)\n",
    "        labels.append(label)\n",
    "        \n",
    "    return rssi_sequences, sinr_sequences, labels"
   ]
  },
  {
   "cell_type": "code",
   "execution_count": 8,
   "metadata": {
    "execution": {
     "iopub.execute_input": "2025-07-25T14:59:57.191782Z",
     "iopub.status.busy": "2025-07-25T14:59:57.191234Z",
     "iopub.status.idle": "2025-07-25T14:59:57.199207Z",
     "shell.execute_reply": "2025-07-25T14:59:57.198180Z",
     "shell.execute_reply.started": "2025-07-25T14:59:57.191748Z"
    },
    "trusted": true
   },
   "outputs": [
    {
     "name": "stdout",
     "output_type": "stream",
     "text": [
      "\n",
      "🔍 Checking files for class 0...\n",
      "✅ Found: C:\\Users\\VEDANT DESHMUKH\\OneDrive\\Desktop\\SEM 8\\CV_Latest\\3mins_IITG_lessAccuracy\\dataset\\RSSI_SINR_NOJam_Static.csv\n",
      "✅ Found: C:\\Users\\VEDANT DESHMUKH\\OneDrive\\Desktop\\SEM 8\\CV_Latest\\3mins_IITG_lessAccuracy\\dataset\\RSSI_SINR_NOJam_ue_mv.csv\n",
      "\n",
      "🔍 Checking files for class 1...\n",
      "✅ Found: C:\\Users\\VEDANT DESHMUKH\\OneDrive\\Desktop\\SEM 8\\CV_Latest\\3mins_IITG_lessAccuracy\\dataset\\RSSI_SINR_Jam_Static.csv\n",
      "✅ Found: C:\\Users\\VEDANT DESHMUKH\\OneDrive\\Desktop\\SEM 8\\CV_Latest\\3mins_IITG_lessAccuracy\\dataset\\RSSI_SINR_Jam_ue_mv.csv\n",
      "✅ Found: C:\\Users\\VEDANT DESHMUKH\\OneDrive\\Desktop\\SEM 8\\CV_Latest\\3mins_IITG_lessAccuracy\\dataset\\RSSI_SINR_Jam_attack_mv.csv\n",
      "✅ Found: C:\\Users\\VEDANT DESHMUKH\\OneDrive\\Desktop\\SEM 8\\CV_Latest\\3mins_IITG_lessAccuracy\\dataset\\RSSI_SINR_Jam_both_mv.csv\n",
      "\n",
      "🔍 Checking files for class 2...\n",
      "✅ Found: C:\\Users\\VEDANT DESHMUKH\\OneDrive\\Desktop\\SEM 8\\CV_Latest\\3mins_IITG_lessAccuracy\\dataset\\RSSI_SINR_IRSJam_Static.csv\n",
      "✅ Found: C:\\Users\\VEDANT DESHMUKH\\OneDrive\\Desktop\\SEM 8\\CV_Latest\\3mins_IITG_lessAccuracy\\dataset\\RSSI_SINR_IRSJam_ue_mv.csv\n",
      "✅ Found: C:\\Users\\VEDANT DESHMUKH\\OneDrive\\Desktop\\SEM 8\\CV_Latest\\3mins_IITG_lessAccuracy\\dataset\\RSSI_SINR_IRSJam_attack_mv.csv\n",
      "✅ Found: C:\\Users\\VEDANT DESHMUKH\\OneDrive\\Desktop\\SEM 8\\CV_Latest\\3mins_IITG_lessAccuracy\\dataset\\RSSI_SINR_IRSJam_both_mv.csv\n",
      "\n",
      "📦 File Check Complete.\n",
      "🎉 All files are present!\n"
     ]
    }
   ],
   "source": [
    "import os\n",
    "\n",
    "# Your class-wise CSV file paths\n",
    "class_files = {\n",
    "    0: [  # Normal\n",
    "        r\"C:\\Users\\VEDANT DESHMUKH\\OneDrive\\Desktop\\SEM 8\\CV_Latest\\3mins_IITG_lessAccuracy\\dataset\\RSSI_SINR_NOJam_Static.csv\",\n",
    "        r\"C:\\Users\\VEDANT DESHMUKH\\OneDrive\\Desktop\\SEM 8\\CV_Latest\\3mins_IITG_lessAccuracy\\dataset\\RSSI_SINR_NOJam_ue_mv.csv\"\n",
    "    ],\n",
    "    1: [  # Jam Only\n",
    "        r\"C:\\Users\\VEDANT DESHMUKH\\OneDrive\\Desktop\\SEM 8\\CV_Latest\\3mins_IITG_lessAccuracy\\dataset\\RSSI_SINR_Jam_Static.csv\",\n",
    "        r\"C:\\Users\\VEDANT DESHMUKH\\OneDrive\\Desktop\\SEM 8\\CV_Latest\\3mins_IITG_lessAccuracy\\dataset\\RSSI_SINR_Jam_ue_mv.csv\",\n",
    "        r\"C:\\Users\\VEDANT DESHMUKH\\OneDrive\\Desktop\\SEM 8\\CV_Latest\\3mins_IITG_lessAccuracy\\dataset\\RSSI_SINR_Jam_attack_mv.csv\",\n",
    "        r\"C:\\Users\\VEDANT DESHMUKH\\OneDrive\\Desktop\\SEM 8\\CV_Latest\\3mins_IITG_lessAccuracy\\dataset\\RSSI_SINR_Jam_both_mv.csv\"\n",
    "    ],\n",
    "    2: [  # Jam + IRS\n",
    "        r\"C:\\Users\\VEDANT DESHMUKH\\OneDrive\\Desktop\\SEM 8\\CV_Latest\\3mins_IITG_lessAccuracy\\dataset\\RSSI_SINR_IRSJam_Static.csv\",\n",
    "        r\"C:\\Users\\VEDANT DESHMUKH\\OneDrive\\Desktop\\SEM 8\\CV_Latest\\3mins_IITG_lessAccuracy\\dataset\\RSSI_SINR_IRSJam_ue_mv.csv\",\n",
    "        r\"C:\\Users\\VEDANT DESHMUKH\\OneDrive\\Desktop\\SEM 8\\CV_Latest\\3mins_IITG_lessAccuracy\\dataset\\RSSI_SINR_IRSJam_attack_mv.csv\",\n",
    "        r\"C:\\Users\\VEDANT DESHMUKH\\OneDrive\\Desktop\\SEM 8\\CV_Latest\\3mins_IITG_lessAccuracy\\dataset\\RSSI_SINR_IRSJam_both_mv.csv\"\n",
    "    ]\n",
    "}\n",
    "\n",
    "missing_files = []\n",
    "\n",
    "# Check each file\n",
    "for label, file_list in class_files.items():\n",
    "    print(f\"\\n🔍 Checking files for class {label}...\")\n",
    "    for file_path in file_list:\n",
    "        if os.path.exists(file_path):\n",
    "            print(f\"✅ Found: {file_path}\")\n",
    "        else:\n",
    "            print(f\"❌ Missing: {file_path}\")\n",
    "            missing_files.append(file_path)\n",
    "\n",
    "# Summary\n",
    "print(\"\\n📦 File Check Complete.\")\n",
    "if missing_files:\n",
    "    print(\"❗ The following files were NOT found:\")\n",
    "    for f in missing_files:\n",
    "        print(\" -\", f)\n",
    "else:\n",
    "    print(\"🎉 All files are present!\")\n"
   ]
  },
  {
   "cell_type": "code",
   "execution_count": 9,
   "metadata": {
    "execution": {
     "iopub.execute_input": "2025-07-25T15:00:01.765735Z",
     "iopub.status.busy": "2025-07-25T15:00:01.765378Z",
     "iopub.status.idle": "2025-07-25T15:00:04.683278Z",
     "shell.execute_reply": "2025-07-25T15:00:04.682184Z",
     "shell.execute_reply.started": "2025-07-25T15:00:01.765708Z"
    },
    "trusted": true
   },
   "outputs": [
    {
     "name": "stdout",
     "output_type": "stream",
     "text": [
      "0\n",
      "['C:\\\\Users\\\\VEDANT DESHMUKH\\\\OneDrive\\\\Desktop\\\\SEM 8\\\\CV_Latest\\\\3mins_IITG_lessAccuracy\\\\dataset\\\\RSSI_SINR_NOJam_Static.csv', 'C:\\\\Users\\\\VEDANT DESHMUKH\\\\OneDrive\\\\Desktop\\\\SEM 8\\\\CV_Latest\\\\3mins_IITG_lessAccuracy\\\\dataset\\\\RSSI_SINR_NOJam_ue_mv.csv']\n",
      "✅ Loaded 4521 samples from C:\\Users\\VEDANT DESHMUKH\\OneDrive\\Desktop\\SEM 8\\CV_Latest\\3mins_IITG_lessAccuracy\\dataset\\RSSI_SINR_NOJam_Static.csv | Label: 0\n",
      "✅ Loaded 5413 samples from C:\\Users\\VEDANT DESHMUKH\\OneDrive\\Desktop\\SEM 8\\CV_Latest\\3mins_IITG_lessAccuracy\\dataset\\RSSI_SINR_NOJam_ue_mv.csv | Label: 0\n",
      "1\n",
      "['C:\\\\Users\\\\VEDANT DESHMUKH\\\\OneDrive\\\\Desktop\\\\SEM 8\\\\CV_Latest\\\\3mins_IITG_lessAccuracy\\\\dataset\\\\RSSI_SINR_Jam_Static.csv', 'C:\\\\Users\\\\VEDANT DESHMUKH\\\\OneDrive\\\\Desktop\\\\SEM 8\\\\CV_Latest\\\\3mins_IITG_lessAccuracy\\\\dataset\\\\RSSI_SINR_Jam_ue_mv.csv', 'C:\\\\Users\\\\VEDANT DESHMUKH\\\\OneDrive\\\\Desktop\\\\SEM 8\\\\CV_Latest\\\\3mins_IITG_lessAccuracy\\\\dataset\\\\RSSI_SINR_Jam_attack_mv.csv', 'C:\\\\Users\\\\VEDANT DESHMUKH\\\\OneDrive\\\\Desktop\\\\SEM 8\\\\CV_Latest\\\\3mins_IITG_lessAccuracy\\\\dataset\\\\RSSI_SINR_Jam_both_mv.csv']\n",
      "✅ Loaded 4506 samples from C:\\Users\\VEDANT DESHMUKH\\OneDrive\\Desktop\\SEM 8\\CV_Latest\\3mins_IITG_lessAccuracy\\dataset\\RSSI_SINR_Jam_Static.csv | Label: 1\n",
      "✅ Loaded 5492 samples from C:\\Users\\VEDANT DESHMUKH\\OneDrive\\Desktop\\SEM 8\\CV_Latest\\3mins_IITG_lessAccuracy\\dataset\\RSSI_SINR_Jam_ue_mv.csv | Label: 1\n",
      "✅ Loaded 4505 samples from C:\\Users\\VEDANT DESHMUKH\\OneDrive\\Desktop\\SEM 8\\CV_Latest\\3mins_IITG_lessAccuracy\\dataset\\RSSI_SINR_Jam_attack_mv.csv | Label: 1\n",
      "✅ Loaded 5582 samples from C:\\Users\\VEDANT DESHMUKH\\OneDrive\\Desktop\\SEM 8\\CV_Latest\\3mins_IITG_lessAccuracy\\dataset\\RSSI_SINR_Jam_both_mv.csv | Label: 1\n",
      "2\n",
      "['C:\\\\Users\\\\VEDANT DESHMUKH\\\\OneDrive\\\\Desktop\\\\SEM 8\\\\CV_Latest\\\\3mins_IITG_lessAccuracy\\\\dataset\\\\RSSI_SINR_IRSJam_Static.csv', 'C:\\\\Users\\\\VEDANT DESHMUKH\\\\OneDrive\\\\Desktop\\\\SEM 8\\\\CV_Latest\\\\3mins_IITG_lessAccuracy\\\\dataset\\\\RSSI_SINR_IRSJam_ue_mv.csv', 'C:\\\\Users\\\\VEDANT DESHMUKH\\\\OneDrive\\\\Desktop\\\\SEM 8\\\\CV_Latest\\\\3mins_IITG_lessAccuracy\\\\dataset\\\\RSSI_SINR_IRSJam_attack_mv.csv', 'C:\\\\Users\\\\VEDANT DESHMUKH\\\\OneDrive\\\\Desktop\\\\SEM 8\\\\CV_Latest\\\\3mins_IITG_lessAccuracy\\\\dataset\\\\RSSI_SINR_IRSJam_both_mv.csv']\n",
      "✅ Loaded 4486 samples from C:\\Users\\VEDANT DESHMUKH\\OneDrive\\Desktop\\SEM 8\\CV_Latest\\3mins_IITG_lessAccuracy\\dataset\\RSSI_SINR_IRSJam_Static.csv | Label: 2\n",
      "✅ Loaded 5285 samples from C:\\Users\\VEDANT DESHMUKH\\OneDrive\\Desktop\\SEM 8\\CV_Latest\\3mins_IITG_lessAccuracy\\dataset\\RSSI_SINR_IRSJam_ue_mv.csv | Label: 2\n",
      "✅ Loaded 4486 samples from C:\\Users\\VEDANT DESHMUKH\\OneDrive\\Desktop\\SEM 8\\CV_Latest\\3mins_IITG_lessAccuracy\\dataset\\RSSI_SINR_IRSJam_attack_mv.csv | Label: 2\n",
      "✅ Loaded 5293 samples from C:\\Users\\VEDANT DESHMUKH\\OneDrive\\Desktop\\SEM 8\\CV_Latest\\3mins_IITG_lessAccuracy\\dataset\\RSSI_SINR_IRSJam_both_mv.csv | Label: 2\n",
      "\n",
      "📊 Total Samples: 49569\n",
      "Class Distribution: Counter({1: 20085, 2: 19550, 0: 9934})\n"
     ]
    }
   ],
   "source": [
    "X_rssi_all, X_sinr_all, y_all = [], [], []\n",
    "\n",
    "for label, files in class_files.items():\n",
    "    print(label)\n",
    "    print(files)\n",
    "\n",
    "    \n",
    "    for file_path in files:\n",
    "        rssi_seq, sinr_seq, labels = load_sequences_from_csv(file_path, label)\n",
    "        X_rssi_all.extend(rssi_seq)\n",
    "        X_sinr_all.extend(sinr_seq)\n",
    "        y_all.extend(labels)\n",
    "        print(f\"✅ Loaded {len(labels)} samples from {file_path} | Label: {label}\")\n",
    "\n",
    "print(\"\\n📊 Total Samples:\", len(y_all))\n",
    "print(\"Class Distribution:\", Counter(y_all))"
   ]
  },
  {
   "cell_type": "code",
   "execution_count": 10,
   "metadata": {
    "execution": {
     "iopub.execute_input": "2025-07-25T15:00:09.120659Z",
     "iopub.status.busy": "2025-07-25T15:00:09.120271Z",
     "iopub.status.idle": "2025-07-25T15:00:10.450400Z",
     "shell.execute_reply": "2025-07-25T15:00:10.449326Z",
     "shell.execute_reply.started": "2025-07-25T15:00:09.120636Z"
    },
    "trusted": true
   },
   "outputs": [
    {
     "name": "stdout",
     "output_type": "stream",
     "text": [
      "✅ After Augmentation:\n",
      "Class Distribution: Counter({1: 20085, 0: 19868, 2: 19550})\n"
     ]
    }
   ],
   "source": [
    "import numpy as np\n",
    "from collections import Counter\n",
    "\n",
    "def augment_with_noise(data, noise_level=0.05, copies=2):\n",
    "    \"\"\"Add Gaussian noise to time-series data.\"\"\"\n",
    "    augmented = []\n",
    "    for _ in range(copies):\n",
    "        noise = np.random.normal(loc=0.0, scale=noise_level, size=data.shape)\n",
    "        augmented.append(data + noise)\n",
    "    return np.concatenate(augmented, axis=0)\n",
    "\n",
    "# Suppose you have loaded these already\n",
    "# X_rssi_all, X_sinr_all, y_all = lists of data\n",
    "# Convert to arrays\n",
    "X_rssi_all = np.array(X_rssi_all)\n",
    "X_sinr_all = np.array(X_sinr_all)\n",
    "y_all = np.array(y_all)\n",
    "\n",
    "# Filter only class 0 samples (Normal)\n",
    "class0_idx = np.where(y_all == 0)[0]\n",
    "X_rssi_class0 = X_rssi_all[class0_idx]\n",
    "X_sinr_class0 = X_sinr_all[class0_idx]\n",
    "\n",
    "# Augment class 0: 2x copies (feel free to tune)\n",
    "X_rssi_aug = augment_with_noise(X_rssi_class0, noise_level=0.05, copies=1)\n",
    "X_sinr_aug = augment_with_noise(X_sinr_class0, noise_level=0.05, copies=1)\n",
    "y_aug = np.zeros(X_rssi_aug.shape[0], dtype=int)  # class 0 labels\n",
    "\n",
    "# Concatenate back into full dataset\n",
    "X_rssi_all = np.concatenate([X_rssi_all, X_rssi_aug], axis=0)\n",
    "X_sinr_all = np.concatenate([X_sinr_all, X_sinr_aug], axis=0)\n",
    "y_all = np.concatenate([y_all, y_aug], axis=0)\n",
    "\n",
    "print(\"✅ After Augmentation:\")\n",
    "print(\"Class Distribution:\", Counter(y_all))\n"
   ]
  },
  {
   "cell_type": "code",
   "execution_count": 11,
   "metadata": {
    "execution": {
     "iopub.execute_input": "2025-07-25T15:01:42.677999Z",
     "iopub.status.busy": "2025-07-25T15:01:42.677645Z",
     "iopub.status.idle": "2025-07-25T15:01:43.312475Z",
     "shell.execute_reply": "2025-07-25T15:01:43.311617Z",
     "shell.execute_reply.started": "2025-07-25T15:01:42.677973Z"
    },
    "trusted": true
   },
   "outputs": [
    {
     "name": "stdout",
     "output_type": "stream",
     "text": [
      "🧮 Class Weights: {0: 0.9983054828534997, 1: 0.9875197079080574, 2: 1.014543904518329}\n"
     ]
    }
   ],
   "source": [
    "X_rssi = np.array(X_rssi_all)\n",
    "X_sinr = np.array(X_sinr_all)\n",
    "y_cat = to_categorical(y_all, num_classes=3)\n",
    "\n",
    "# --- Split Dataset ---\n",
    "X_rssi_train, X_rssi_val, X_sinr_train, X_sinr_val, y_train, y_val = train_test_split(\n",
    "    X_rssi, X_sinr, y_cat, test_size=0.3, stratify=y_all, random_state=42\n",
    ")\n",
    "\n",
    "# --- Class Weights ---\n",
    "class_weights = class_weight.compute_class_weight('balanced', classes=np.unique(y_all), y=y_all)\n",
    "class_weights_dict = {i: class_weights[i] for i in range(len(class_weights))}\n",
    "print(\"🧮 Class Weights:\", class_weights_dict)\n",
    "\n"
   ]
  },
  {
   "cell_type": "code",
   "execution_count": 9,
   "metadata": {
    "execution": {
     "iopub.execute_input": "2025-07-25T15:03:19.370204Z",
     "iopub.status.busy": "2025-07-25T15:03:19.369855Z",
     "iopub.status.idle": "2025-07-25T15:03:19.379881Z",
     "shell.execute_reply": "2025-07-25T15:03:19.378792Z",
     "shell.execute_reply.started": "2025-07-25T15:03:19.370176Z"
    },
    "trusted": true
   },
   "outputs": [],
   "source": [
    "\n",
    "\n",
    "from keras.layers import LayerNormalization\n",
    "\n",
    "def conv_block(x):\n",
    "    x = Conv1D(16, 5, strides=2, activation='relu', padding='same', kernel_regularizer=l2(1e-4))(x)\n",
    "    x = LayerNormalization()(x)\n",
    "    x = Conv1D(32, 3, strides=1, activation='relu', padding='same', kernel_regularizer=l2(1e-4))(x)\n",
    "    x = LayerNormalization()(x)\n",
    "    return x\n",
    "\n",
    "def build_final_model(seq_len):\n",
    "    # RSSI branch\n",
    "    rssi_input = Input(shape=(seq_len, 1), name=\"RSSI_Input\")\n",
    "    x_rssi = GaussianNoise(0.1)(rssi_input)\n",
    "    x_rssi = conv_block(x_rssi)\n",
    "    x_rssi = LSTM(32, return_sequences=False, dropout=0.3, recurrent_dropout=0.1)(x_rssi)\n",
    "\n",
    "    # SINR branch\n",
    "    sinr_input = Input(shape=(seq_len, 1), name=\"SINR_Input\")\n",
    "    x_sinr = GaussianNoise(0.1)(sinr_input)\n",
    "    x_sinr = conv_block(x_sinr)\n",
    "    x_sinr = LSTM(32, return_sequences=False, dropout=0.3, recurrent_dropout=0.1)(x_sinr)\n",
    "\n",
    "    # Merge branches\n",
    "    x = Concatenate()([x_rssi, x_sinr])\n",
    "    x = Dense(64, activation='relu', kernel_regularizer=l2(1e-4))(x)\n",
    "    x = Dropout(0.3)(x)\n",
    "    x = Dense(32, activation='relu', kernel_regularizer=l2(1e-4))(x)\n",
    "    x = Dropout(0.3)(x)\n",
    "    x = Dense(16, activation='relu', kernel_regularizer=l2(1e-4))(x)\n",
    "    out = Dense(3, activation='softmax')(x)\n",
    "\n",
    "    return Model(inputs=[rssi_input, sinr_input], outputs=out)\n"
   ]
  },
  {
   "cell_type": "code",
   "execution_count": 10,
   "metadata": {},
   "outputs": [
    {
     "name": "stdout",
     "output_type": "stream",
     "text": [
      "[name: \"/device:CPU:0\"\n",
      "device_type: \"CPU\"\n",
      "memory_limit: 268435456\n",
      "locality {\n",
      "}\n",
      "incarnation: 16172995463550682066\n",
      "xla_global_id: -1\n",
      "]\n"
     ]
    }
   ],
   "source": [
    "from tensorflow.python.client import device_lib\n",
    "print(device_lib.list_local_devices())\n"
   ]
  },
  {
   "cell_type": "code",
   "execution_count": 11,
   "metadata": {
    "execution": {
     "iopub.execute_input": "2025-07-25T15:04:10.611582Z",
     "iopub.status.busy": "2025-07-25T15:04:10.611176Z"
    },
    "trusted": true
   },
   "outputs": [
    {
     "name": "stdout",
     "output_type": "stream",
     "text": [
      "Epoch 1/150\n",
      "\u001b[1m1302/1302\u001b[0m \u001b[32m━━━━━━━━━━━━━━━━━━━━\u001b[0m\u001b[37m\u001b[0m \u001b[1m159s\u001b[0m 118ms/step - accuracy: 0.4248 - loss: 1.0358 - val_accuracy: 0.6041 - val_loss: 0.7843 - learning_rate: 0.0010\n",
      "Epoch 2/150\n",
      "\u001b[1m1302/1302\u001b[0m \u001b[32m━━━━━━━━━━━━━━━━━━━━\u001b[0m\u001b[37m\u001b[0m \u001b[1m179s\u001b[0m 137ms/step - accuracy: 0.5863 - loss: 0.8144 - val_accuracy: 0.6401 - val_loss: 0.6755 - learning_rate: 0.0010\n",
      "Epoch 3/150\n",
      "\u001b[1m1302/1302\u001b[0m \u001b[32m━━━━━━━━━━━━━━━━━━━━\u001b[0m\u001b[37m\u001b[0m \u001b[1m166s\u001b[0m 127ms/step - accuracy: 0.6174 - loss: 0.7127 - val_accuracy: 0.5947 - val_loss: 0.7494 - learning_rate: 0.0010\n",
      "Epoch 4/150\n",
      "\u001b[1m1302/1302\u001b[0m \u001b[32m━━━━━━━━━━━━━━━━━━━━\u001b[0m\u001b[37m\u001b[0m \u001b[1m210s\u001b[0m 161ms/step - accuracy: 0.6325 - loss: 0.6832 - val_accuracy: 0.6465 - val_loss: 0.7088 - learning_rate: 0.0010\n",
      "Epoch 5/150\n",
      "\u001b[1m1302/1302\u001b[0m \u001b[32m━━━━━━━━━━━━━━━━━━━━\u001b[0m\u001b[37m\u001b[0m \u001b[1m228s\u001b[0m 175ms/step - accuracy: 0.6447 - loss: 0.6591 - val_accuracy: 0.6581 - val_loss: 0.6502 - learning_rate: 5.0000e-04\n",
      "Epoch 6/150\n",
      "\u001b[1m1302/1302\u001b[0m \u001b[32m━━━━━━━━━━━━━━━━━━━━\u001b[0m\u001b[37m\u001b[0m \u001b[1m211s\u001b[0m 162ms/step - accuracy: 0.6603 - loss: 0.6436 - val_accuracy: 0.6776 - val_loss: 0.6170 - learning_rate: 5.0000e-04\n",
      "Epoch 7/150\n",
      "\u001b[1m1302/1302\u001b[0m \u001b[32m━━━━━━━━━━━━━━━━━━━━\u001b[0m\u001b[37m\u001b[0m \u001b[1m209s\u001b[0m 160ms/step - accuracy: 0.6717 - loss: 0.6319 - val_accuracy: 0.6855 - val_loss: 0.6326 - learning_rate: 5.0000e-04\n",
      "Epoch 8/150\n",
      "\u001b[1m1302/1302\u001b[0m \u001b[32m━━━━━━━━━━━━━━━━━━━━\u001b[0m\u001b[37m\u001b[0m \u001b[1m223s\u001b[0m 171ms/step - accuracy: 0.6833 - loss: 0.6199 - val_accuracy: 0.7099 - val_loss: 0.5946 - learning_rate: 5.0000e-04\n",
      "Epoch 9/150\n",
      "\u001b[1m1302/1302\u001b[0m \u001b[32m━━━━━━━━━━━━━━━━━━━━\u001b[0m\u001b[37m\u001b[0m \u001b[1m153s\u001b[0m 117ms/step - accuracy: 0.6882 - loss: 0.6150 - val_accuracy: 0.7094 - val_loss: 0.6708 - learning_rate: 5.0000e-04\n",
      "Epoch 10/150\n",
      "\u001b[1m1302/1302\u001b[0m \u001b[32m━━━━━━━━━━━━━━━━━━━━\u001b[0m\u001b[37m\u001b[0m \u001b[1m141s\u001b[0m 109ms/step - accuracy: 0.6980 - loss: 0.6036 - val_accuracy: 0.7145 - val_loss: 0.5929 - learning_rate: 5.0000e-04\n",
      "Epoch 11/150\n",
      "\u001b[1m1302/1302\u001b[0m \u001b[32m━━━━━━━━━━━━━━━━━━━━\u001b[0m\u001b[37m\u001b[0m \u001b[1m161s\u001b[0m 123ms/step - accuracy: 0.6863 - loss: 0.6304 - val_accuracy: 0.7273 - val_loss: 0.5615 - learning_rate: 5.0000e-04\n",
      "Epoch 12/150\n",
      "\u001b[1m1302/1302\u001b[0m \u001b[32m━━━━━━━━━━━━━━━━━━━━\u001b[0m\u001b[37m\u001b[0m \u001b[1m263s\u001b[0m 202ms/step - accuracy: 0.7032 - loss: 0.6041 - val_accuracy: 0.7287 - val_loss: 0.5557 - learning_rate: 5.0000e-04\n",
      "Epoch 13/150\n",
      "\u001b[1m1302/1302\u001b[0m \u001b[32m━━━━━━━━━━━━━━━━━━━━\u001b[0m\u001b[37m\u001b[0m \u001b[1m483s\u001b[0m 326ms/step - accuracy: 0.7111 - loss: 0.5866 - val_accuracy: 0.7377 - val_loss: 0.5484 - learning_rate: 5.0000e-04\n",
      "Epoch 14/150\n",
      "\u001b[1m1302/1302\u001b[0m \u001b[32m━━━━━━━━━━━━━━━━━━━━\u001b[0m\u001b[37m\u001b[0m \u001b[1m469s\u001b[0m 360ms/step - accuracy: 0.7052 - loss: 0.6041 - val_accuracy: 0.7314 - val_loss: 0.5525 - learning_rate: 5.0000e-04\n",
      "Epoch 15/150\n",
      "\u001b[1m1302/1302\u001b[0m \u001b[32m━━━━━━━━━━━━━━━━━━━━\u001b[0m\u001b[37m\u001b[0m \u001b[1m239s\u001b[0m 183ms/step - accuracy: 0.7181 - loss: 0.5720 - val_accuracy: 0.7502 - val_loss: 0.5277 - learning_rate: 5.0000e-04\n",
      "Epoch 16/150\n",
      "\u001b[1m1302/1302\u001b[0m \u001b[32m━━━━━━━━━━━━━━━━━━━━\u001b[0m\u001b[37m\u001b[0m \u001b[1m247s\u001b[0m 189ms/step - accuracy: 0.7193 - loss: 0.5740 - val_accuracy: 0.7488 - val_loss: 0.5257 - learning_rate: 5.0000e-04\n",
      "Epoch 17/150\n",
      "\u001b[1m1302/1302\u001b[0m \u001b[32m━━━━━━━━━━━━━━━━━━━━\u001b[0m\u001b[37m\u001b[0m \u001b[1m182s\u001b[0m 140ms/step - accuracy: 0.7356 - loss: 0.5517 - val_accuracy: 0.7591 - val_loss: 0.5121 - learning_rate: 5.0000e-04\n",
      "Epoch 18/150\n",
      "\u001b[1m1302/1302\u001b[0m \u001b[32m━━━━━━━━━━━━━━━━━━━━\u001b[0m\u001b[37m\u001b[0m \u001b[1m194s\u001b[0m 149ms/step - accuracy: 0.7319 - loss: 0.5530 - val_accuracy: 0.7638 - val_loss: 0.5055 - learning_rate: 5.0000e-04\n",
      "Epoch 19/150\n",
      "\u001b[1m1302/1302\u001b[0m \u001b[32m━━━━━━━━━━━━━━━━━━━━\u001b[0m\u001b[37m\u001b[0m \u001b[1m179s\u001b[0m 138ms/step - accuracy: 0.7342 - loss: 0.5507 - val_accuracy: 0.7654 - val_loss: 0.5039 - learning_rate: 5.0000e-04\n",
      "Epoch 20/150\n",
      "\u001b[1m1302/1302\u001b[0m \u001b[32m━━━━━━━━━━━━━━━━━━━━\u001b[0m\u001b[37m\u001b[0m \u001b[1m189s\u001b[0m 145ms/step - accuracy: 0.7443 - loss: 0.5367 - val_accuracy: 0.7745 - val_loss: 0.4951 - learning_rate: 5.0000e-04\n",
      "Epoch 21/150\n",
      "\u001b[1m1302/1302\u001b[0m \u001b[32m━━━━━━━━━━━━━━━━━━━━\u001b[0m\u001b[37m\u001b[0m \u001b[1m346s\u001b[0m 266ms/step - accuracy: 0.7522 - loss: 0.5287 - val_accuracy: 0.7785 - val_loss: 0.4882 - learning_rate: 5.0000e-04\n",
      "Epoch 22/150\n",
      "\u001b[1m1302/1302\u001b[0m \u001b[32m━━━━━━━━━━━━━━━━━━━━\u001b[0m\u001b[37m\u001b[0m \u001b[1m229s\u001b[0m 176ms/step - accuracy: 0.7538 - loss: 0.5232 - val_accuracy: 0.7828 - val_loss: 0.4801 - learning_rate: 5.0000e-04\n",
      "Epoch 23/150\n",
      "\u001b[1m1302/1302\u001b[0m \u001b[32m━━━━━━━━━━━━━━━━━━━━\u001b[0m\u001b[37m\u001b[0m \u001b[1m254s\u001b[0m 195ms/step - accuracy: 0.7579 - loss: 0.5169 - val_accuracy: 0.7754 - val_loss: 0.4833 - learning_rate: 5.0000e-04\n",
      "Epoch 24/150\n",
      "\u001b[1m1302/1302\u001b[0m \u001b[32m━━━━━━━━━━━━━━━━━━━━\u001b[0m\u001b[37m\u001b[0m \u001b[1m247s\u001b[0m 190ms/step - accuracy: 0.7572 - loss: 0.5166 - val_accuracy: 0.7807 - val_loss: 0.4800 - learning_rate: 5.0000e-04\n",
      "Epoch 25/150\n",
      "\u001b[1m1302/1302\u001b[0m \u001b[32m━━━━━━━━━━━━━━━━━━━━\u001b[0m\u001b[37m\u001b[0m \u001b[1m206s\u001b[0m 159ms/step - accuracy: 0.7585 - loss: 0.5139 - val_accuracy: 0.7108 - val_loss: 1.0332 - learning_rate: 5.0000e-04\n",
      "Epoch 26/150\n",
      "\u001b[1m1302/1302\u001b[0m \u001b[32m━━━━━━━━━━━━━━━━━━━━\u001b[0m\u001b[37m\u001b[0m \u001b[1m260s\u001b[0m 199ms/step - accuracy: 0.7567 - loss: 0.5439 - val_accuracy: 0.7881 - val_loss: 0.4645 - learning_rate: 5.0000e-04\n",
      "Epoch 27/150\n",
      "\u001b[1m1302/1302\u001b[0m \u001b[32m━━━━━━━━━━━━━━━━━━━━\u001b[0m\u001b[37m\u001b[0m \u001b[1m235s\u001b[0m 180ms/step - accuracy: 0.7651 - loss: 0.5019 - val_accuracy: 0.7920 - val_loss: 0.4592 - learning_rate: 5.0000e-04\n",
      "Epoch 28/150\n",
      "\u001b[1m1302/1302\u001b[0m \u001b[32m━━━━━━━━━━━━━━━━━━━━\u001b[0m\u001b[37m\u001b[0m \u001b[1m237s\u001b[0m 182ms/step - accuracy: 0.7666 - loss: 0.5036 - val_accuracy: 0.7865 - val_loss: 0.4583 - learning_rate: 5.0000e-04\n",
      "Epoch 29/150\n",
      "\u001b[1m1302/1302\u001b[0m \u001b[32m━━━━━━━━━━━━━━━━━━━━\u001b[0m\u001b[37m\u001b[0m \u001b[1m110s\u001b[0m 85ms/step - accuracy: 0.7728 - loss: 0.4942 - val_accuracy: 0.7950 - val_loss: 0.4513 - learning_rate: 5.0000e-04\n",
      "Epoch 30/150\n",
      "\u001b[1m1302/1302\u001b[0m \u001b[32m━━━━━━━━━━━━━━━━━━━━\u001b[0m\u001b[37m\u001b[0m \u001b[1m145s\u001b[0m 111ms/step - accuracy: 0.7775 - loss: 0.4881 - val_accuracy: 0.8051 - val_loss: 0.4374 - learning_rate: 5.0000e-04\n",
      "Epoch 31/150\n",
      "\u001b[1m1302/1302\u001b[0m \u001b[32m━━━━━━━━━━━━━━━━━━━━\u001b[0m\u001b[37m\u001b[0m \u001b[1m203s\u001b[0m 156ms/step - accuracy: 0.7766 - loss: 0.4891 - val_accuracy: 0.8034 - val_loss: 0.4364 - learning_rate: 5.0000e-04\n",
      "Epoch 32/150\n",
      "\u001b[1m1302/1302\u001b[0m \u001b[32m━━━━━━━━━━━━━━━━━━━━\u001b[0m\u001b[37m\u001b[0m \u001b[1m230s\u001b[0m 177ms/step - accuracy: 0.7765 - loss: 0.4912 - val_accuracy: 0.7874 - val_loss: 0.4674 - learning_rate: 5.0000e-04\n",
      "Epoch 33/150\n",
      "\u001b[1m1302/1302\u001b[0m \u001b[32m━━━━━━━━━━━━━━━━━━━━\u001b[0m\u001b[37m\u001b[0m \u001b[1m219s\u001b[0m 168ms/step - accuracy: 0.7785 - loss: 0.4811 - val_accuracy: 0.8063 - val_loss: 0.4298 - learning_rate: 5.0000e-04\n",
      "Epoch 34/150\n",
      "\u001b[1m1302/1302\u001b[0m \u001b[32m━━━━━━━━━━━━━━━━━━━━\u001b[0m\u001b[37m\u001b[0m \u001b[1m179s\u001b[0m 137ms/step - accuracy: 0.7825 - loss: 0.4827 - val_accuracy: 0.8079 - val_loss: 0.4301 - learning_rate: 5.0000e-04\n",
      "Epoch 35/150\n",
      "\u001b[1m1302/1302\u001b[0m \u001b[32m━━━━━━━━━━━━━━━━━━━━\u001b[0m\u001b[37m\u001b[0m \u001b[1m141s\u001b[0m 108ms/step - accuracy: 0.7903 - loss: 0.4676 - val_accuracy: 0.8103 - val_loss: 0.4272 - learning_rate: 5.0000e-04\n",
      "Epoch 36/150\n",
      "\u001b[1m1302/1302\u001b[0m \u001b[32m━━━━━━━━━━━━━━━━━━━━\u001b[0m\u001b[37m\u001b[0m \u001b[1m161s\u001b[0m 124ms/step - accuracy: 0.7884 - loss: 0.4641 - val_accuracy: 0.8207 - val_loss: 0.4130 - learning_rate: 5.0000e-04\n",
      "Epoch 37/150\n",
      "\u001b[1m1302/1302\u001b[0m \u001b[32m━━━━━━━━━━━━━━━━━━━━\u001b[0m\u001b[37m\u001b[0m \u001b[1m167s\u001b[0m 128ms/step - accuracy: 0.7916 - loss: 0.4723 - val_accuracy: 0.8196 - val_loss: 0.4122 - learning_rate: 5.0000e-04\n",
      "Epoch 38/150\n",
      "\u001b[1m1302/1302\u001b[0m \u001b[32m━━━━━━━━━━━━━━━━━━━━\u001b[0m\u001b[37m\u001b[0m \u001b[1m168s\u001b[0m 129ms/step - accuracy: 0.7894 - loss: 0.4671 - val_accuracy: 0.8206 - val_loss: 0.4111 - learning_rate: 5.0000e-04\n",
      "Epoch 39/150\n",
      "\u001b[1m1302/1302\u001b[0m \u001b[32m━━━━━━━━━━━━━━━━━━━━\u001b[0m\u001b[37m\u001b[0m \u001b[1m166s\u001b[0m 128ms/step - accuracy: 0.7932 - loss: 0.4600 - val_accuracy: 0.8196 - val_loss: 0.4067 - learning_rate: 5.0000e-04\n",
      "Epoch 40/150\n",
      "\u001b[1m1302/1302\u001b[0m \u001b[32m━━━━━━━━━━━━━━━━━━━━\u001b[0m\u001b[37m\u001b[0m \u001b[1m166s\u001b[0m 127ms/step - accuracy: 0.7963 - loss: 0.4493 - val_accuracy: 0.8196 - val_loss: 0.4086 - learning_rate: 5.0000e-04\n",
      "Epoch 41/150\n",
      "\u001b[1m1302/1302\u001b[0m \u001b[32m━━━━━━━━━━━━━━━━━━━━\u001b[0m\u001b[37m\u001b[0m \u001b[1m167s\u001b[0m 128ms/step - accuracy: 0.7956 - loss: 0.4588 - val_accuracy: 0.8256 - val_loss: 0.3996 - learning_rate: 5.0000e-04\n",
      "Epoch 42/150\n",
      "\u001b[1m1302/1302\u001b[0m \u001b[32m━━━━━━━━━━━━━━━━━━━━\u001b[0m\u001b[37m\u001b[0m \u001b[1m166s\u001b[0m 127ms/step - accuracy: 0.8013 - loss: 0.4452 - val_accuracy: 0.8183 - val_loss: 0.4018 - learning_rate: 5.0000e-04\n",
      "Epoch 43/150\n",
      "\u001b[1m1302/1302\u001b[0m \u001b[32m━━━━━━━━━━━━━━━━━━━━\u001b[0m\u001b[37m\u001b[0m \u001b[1m170s\u001b[0m 130ms/step - accuracy: 0.7944 - loss: 0.4605 - val_accuracy: 0.8266 - val_loss: 0.3906 - learning_rate: 5.0000e-04\n",
      "Epoch 44/150\n",
      "\u001b[1m1302/1302\u001b[0m \u001b[32m━━━━━━━━━━━━━━━━━━━━\u001b[0m\u001b[37m\u001b[0m \u001b[1m166s\u001b[0m 128ms/step - accuracy: 0.8033 - loss: 0.4462 - val_accuracy: 0.8351 - val_loss: 0.3847 - learning_rate: 5.0000e-04\n",
      "Epoch 45/150\n",
      "\u001b[1m1302/1302\u001b[0m \u001b[32m━━━━━━━━━━━━━━━━━━━━\u001b[0m\u001b[37m\u001b[0m \u001b[1m164s\u001b[0m 126ms/step - accuracy: 0.8039 - loss: 0.4406 - val_accuracy: 0.8321 - val_loss: 0.3872 - learning_rate: 5.0000e-04\n",
      "Epoch 46/150\n",
      "\u001b[1m1302/1302\u001b[0m \u001b[32m━━━━━━━━━━━━━━━━━━━━\u001b[0m\u001b[37m\u001b[0m \u001b[1m166s\u001b[0m 127ms/step - accuracy: 0.8097 - loss: 0.4403 - val_accuracy: 0.8263 - val_loss: 0.3969 - learning_rate: 5.0000e-04\n",
      "Epoch 47/150\n",
      "\u001b[1m1302/1302\u001b[0m \u001b[32m━━━━━━━━━━━━━━━━━━━━\u001b[0m\u001b[37m\u001b[0m \u001b[1m158s\u001b[0m 121ms/step - accuracy: 0.8139 - loss: 0.4231 - val_accuracy: 0.8341 - val_loss: 0.3763 - learning_rate: 2.5000e-04\n",
      "Epoch 48/150\n",
      "\u001b[1m1302/1302\u001b[0m \u001b[32m━━━━━━━━━━━━━━━━━━━━\u001b[0m\u001b[37m\u001b[0m \u001b[1m142s\u001b[0m 109ms/step - accuracy: 0.8194 - loss: 0.4162 - val_accuracy: 0.8393 - val_loss: 0.3660 - learning_rate: 2.5000e-04\n",
      "Epoch 49/150\n",
      "\u001b[1m1302/1302\u001b[0m \u001b[32m━━━━━━━━━━━━━━━━━━━━\u001b[0m\u001b[37m\u001b[0m \u001b[1m139s\u001b[0m 107ms/step - accuracy: 0.8216 - loss: 0.4054 - val_accuracy: 0.8348 - val_loss: 0.3980 - learning_rate: 2.5000e-04\n",
      "Epoch 50/150\n",
      "\u001b[1m1302/1302\u001b[0m \u001b[32m━━━━━━━━━━━━━━━━━━━━\u001b[0m\u001b[37m\u001b[0m \u001b[1m151s\u001b[0m 116ms/step - accuracy: 0.8225 - loss: 0.4107 - val_accuracy: 0.8467 - val_loss: 0.3572 - learning_rate: 2.5000e-04\n",
      "Epoch 51/150\n",
      "\u001b[1m1302/1302\u001b[0m \u001b[32m━━━━━━━━━━━━━━━━━━━━\u001b[0m\u001b[37m\u001b[0m \u001b[1m165s\u001b[0m 127ms/step - accuracy: 0.8246 - loss: 0.4020 - val_accuracy: 0.8445 - val_loss: 0.3659 - learning_rate: 2.5000e-04\n",
      "Epoch 52/150\n",
      "\u001b[1m1302/1302\u001b[0m \u001b[32m━━━━━━━━━━━━━━━━━━━━\u001b[0m\u001b[37m\u001b[0m \u001b[1m166s\u001b[0m 128ms/step - accuracy: 0.8246 - loss: 0.4073 - val_accuracy: 0.8463 - val_loss: 0.3548 - learning_rate: 2.5000e-04\n",
      "Epoch 53/150\n",
      "\u001b[1m1302/1302\u001b[0m \u001b[32m━━━━━━━━━━━━━━━━━━━━\u001b[0m\u001b[37m\u001b[0m \u001b[1m167s\u001b[0m 128ms/step - accuracy: 0.8284 - loss: 0.3987 - val_accuracy: 0.8471 - val_loss: 0.3508 - learning_rate: 2.5000e-04\n",
      "Epoch 54/150\n",
      "\u001b[1m1302/1302\u001b[0m \u001b[32m━━━━━━━━━━━━━━━━━━━━\u001b[0m\u001b[37m\u001b[0m \u001b[1m167s\u001b[0m 129ms/step - accuracy: 0.8215 - loss: 0.4061 - val_accuracy: 0.8507 - val_loss: 0.3489 - learning_rate: 2.5000e-04\n",
      "Epoch 55/150\n",
      "\u001b[1m1302/1302\u001b[0m \u001b[32m━━━━━━━━━━━━━━━━━━━━\u001b[0m\u001b[37m\u001b[0m \u001b[1m166s\u001b[0m 128ms/step - accuracy: 0.8265 - loss: 0.3993 - val_accuracy: 0.8454 - val_loss: 0.3549 - learning_rate: 2.5000e-04\n",
      "Epoch 56/150\n",
      "\u001b[1m1302/1302\u001b[0m \u001b[32m━━━━━━━━━━━━━━━━━━━━\u001b[0m\u001b[37m\u001b[0m \u001b[1m167s\u001b[0m 128ms/step - accuracy: 0.8266 - loss: 0.4006 - val_accuracy: 0.8465 - val_loss: 0.3477 - learning_rate: 2.5000e-04\n",
      "Epoch 57/150\n",
      "\u001b[1m1302/1302\u001b[0m \u001b[32m━━━━━━━━━━━━━━━━━━━━\u001b[0m\u001b[37m\u001b[0m \u001b[1m167s\u001b[0m 128ms/step - accuracy: 0.8227 - loss: 0.4070 - val_accuracy: 0.8487 - val_loss: 0.3471 - learning_rate: 2.5000e-04\n",
      "Epoch 58/150\n",
      "\u001b[1m1302/1302\u001b[0m \u001b[32m━━━━━━━━━━━━━━━━━━━━\u001b[0m\u001b[37m\u001b[0m \u001b[1m142s\u001b[0m 109ms/step - accuracy: 0.8328 - loss: 0.3926 - val_accuracy: 0.8514 - val_loss: 0.3424 - learning_rate: 2.5000e-04\n",
      "Epoch 59/150\n",
      "\u001b[1m1302/1302\u001b[0m \u001b[32m━━━━━━━━━━━━━━━━━━━━\u001b[0m\u001b[37m\u001b[0m \u001b[1m145s\u001b[0m 111ms/step - accuracy: 0.8314 - loss: 0.3919 - val_accuracy: 0.8515 - val_loss: 0.3436 - learning_rate: 2.5000e-04\n",
      "Epoch 60/150\n",
      "\u001b[1m1302/1302\u001b[0m \u001b[32m━━━━━━━━━━━━━━━━━━━━\u001b[0m\u001b[37m\u001b[0m \u001b[1m167s\u001b[0m 128ms/step - accuracy: 0.8283 - loss: 0.3979 - val_accuracy: 0.8544 - val_loss: 0.3414 - learning_rate: 2.5000e-04\n",
      "Epoch 61/150\n",
      "\u001b[1m1302/1302\u001b[0m \u001b[32m━━━━━━━━━━━━━━━━━━━━\u001b[0m\u001b[37m\u001b[0m \u001b[1m168s\u001b[0m 129ms/step - accuracy: 0.8344 - loss: 0.3900 - val_accuracy: 0.8566 - val_loss: 0.3347 - learning_rate: 2.5000e-04\n",
      "Epoch 62/150\n",
      "\u001b[1m1302/1302\u001b[0m \u001b[32m━━━━━━━━━━━━━━━━━━━━\u001b[0m\u001b[37m\u001b[0m \u001b[1m168s\u001b[0m 129ms/step - accuracy: 0.8350 - loss: 0.3896 - val_accuracy: 0.8550 - val_loss: 0.3426 - learning_rate: 2.5000e-04\n",
      "Epoch 63/150\n",
      "\u001b[1m1302/1302\u001b[0m \u001b[32m━━━━━━━━━━━━━━━━━━━━\u001b[0m\u001b[37m\u001b[0m \u001b[1m167s\u001b[0m 128ms/step - accuracy: 0.8353 - loss: 0.3848 - val_accuracy: 0.8595 - val_loss: 0.3326 - learning_rate: 2.5000e-04\n",
      "Epoch 64/150\n",
      "\u001b[1m1302/1302\u001b[0m \u001b[32m━━━━━━━━━━━━━━━━━━━━\u001b[0m\u001b[37m\u001b[0m \u001b[1m168s\u001b[0m 129ms/step - accuracy: 0.8306 - loss: 0.3918 - val_accuracy: 0.8586 - val_loss: 0.3293 - learning_rate: 2.5000e-04\n",
      "Epoch 65/150\n",
      "\u001b[1m1302/1302\u001b[0m \u001b[32m━━━━━━━━━━━━━━━━━━━━\u001b[0m\u001b[37m\u001b[0m \u001b[1m167s\u001b[0m 129ms/step - accuracy: 0.8336 - loss: 0.3861 - val_accuracy: 0.8589 - val_loss: 0.3283 - learning_rate: 2.5000e-04\n",
      "Epoch 66/150\n",
      "\u001b[1m1302/1302\u001b[0m \u001b[32m━━━━━━━━━━━━━━━━━━━━\u001b[0m\u001b[37m\u001b[0m \u001b[1m147s\u001b[0m 113ms/step - accuracy: 0.8441 - loss: 0.3709 - val_accuracy: 0.8523 - val_loss: 0.3389 - learning_rate: 2.5000e-04\n",
      "Epoch 67/150\n",
      "\u001b[1m1302/1302\u001b[0m \u001b[32m━━━━━━━━━━━━━━━━━━━━\u001b[0m\u001b[37m\u001b[0m \u001b[1m145s\u001b[0m 112ms/step - accuracy: 0.8375 - loss: 0.3833 - val_accuracy: 0.8592 - val_loss: 0.3317 - learning_rate: 2.5000e-04\n",
      "Epoch 68/150\n",
      "\u001b[1m1302/1302\u001b[0m \u001b[32m━━━━━━━━━━━━━━━━━━━━\u001b[0m\u001b[37m\u001b[0m \u001b[1m169s\u001b[0m 130ms/step - accuracy: 0.8444 - loss: 0.3706 - val_accuracy: 0.8676 - val_loss: 0.3163 - learning_rate: 1.2500e-04\n",
      "Epoch 69/150\n",
      "\u001b[1m1302/1302\u001b[0m \u001b[32m━━━━━━━━━━━━━━━━━━━━\u001b[0m\u001b[37m\u001b[0m \u001b[1m168s\u001b[0m 129ms/step - accuracy: 0.8429 - loss: 0.3696 - val_accuracy: 0.8639 - val_loss: 0.3214 - learning_rate: 1.2500e-04\n",
      "Epoch 70/150\n",
      "\u001b[1m1302/1302\u001b[0m \u001b[32m━━━━━━━━━━━━━━━━━━━━\u001b[0m\u001b[37m\u001b[0m \u001b[1m169s\u001b[0m 129ms/step - accuracy: 0.8434 - loss: 0.3684 - val_accuracy: 0.8672 - val_loss: 0.3161 - learning_rate: 1.2500e-04\n",
      "Epoch 71/150\n",
      "\u001b[1m1302/1302\u001b[0m \u001b[32m━━━━━━━━━━━━━━━━━━━━\u001b[0m\u001b[37m\u001b[0m \u001b[1m168s\u001b[0m 129ms/step - accuracy: 0.8466 - loss: 0.3604 - val_accuracy: 0.8610 - val_loss: 0.3357 - learning_rate: 1.2500e-04\n",
      "Epoch 72/150\n",
      "\u001b[1m1302/1302\u001b[0m \u001b[32m━━━━━━━━━━━━━━━━━━━━\u001b[0m\u001b[37m\u001b[0m \u001b[1m170s\u001b[0m 130ms/step - accuracy: 0.8496 - loss: 0.3645 - val_accuracy: 0.8654 - val_loss: 0.3217 - learning_rate: 1.2500e-04\n",
      "Epoch 73/150\n",
      "\u001b[1m1302/1302\u001b[0m \u001b[32m━━━━━━━━━━━━━━━━━━━━\u001b[0m\u001b[37m\u001b[0m \u001b[1m169s\u001b[0m 130ms/step - accuracy: 0.8497 - loss: 0.3609 - val_accuracy: 0.8686 - val_loss: 0.3101 - learning_rate: 6.2500e-05\n",
      "Epoch 74/150\n",
      "\u001b[1m1302/1302\u001b[0m \u001b[32m━━━━━━━━━━━━━━━━━━━━\u001b[0m\u001b[37m\u001b[0m \u001b[1m169s\u001b[0m 130ms/step - accuracy: 0.8526 - loss: 0.3531 - val_accuracy: 0.8699 - val_loss: 0.3111 - learning_rate: 6.2500e-05\n",
      "Epoch 75/150\n",
      "\u001b[1m1302/1302\u001b[0m \u001b[32m━━━━━━━━━━━━━━━━━━━━\u001b[0m\u001b[37m\u001b[0m \u001b[1m169s\u001b[0m 130ms/step - accuracy: 0.8480 - loss: 0.3598 - val_accuracy: 0.8726 - val_loss: 0.3071 - learning_rate: 6.2500e-05\n",
      "Epoch 76/150\n",
      "\u001b[1m1302/1302\u001b[0m \u001b[32m━━━━━━━━━━━━━━━━━━━━\u001b[0m\u001b[37m\u001b[0m \u001b[1m170s\u001b[0m 131ms/step - accuracy: 0.8508 - loss: 0.3520 - val_accuracy: 0.8717 - val_loss: 0.3100 - learning_rate: 6.2500e-05\n",
      "Epoch 77/150\n",
      "\u001b[1m1302/1302\u001b[0m \u001b[32m━━━━━━━━━━━━━━━━━━━━\u001b[0m\u001b[37m\u001b[0m \u001b[1m170s\u001b[0m 130ms/step - accuracy: 0.8558 - loss: 0.3464 - val_accuracy: 0.8693 - val_loss: 0.3147 - learning_rate: 6.2500e-05\n",
      "Epoch 78/150\n",
      "\u001b[1m1302/1302\u001b[0m \u001b[32m━━━━━━━━━━━━━━━━━━━━\u001b[0m\u001b[37m\u001b[0m \u001b[1m170s\u001b[0m 130ms/step - accuracy: 0.8495 - loss: 0.3545 - val_accuracy: 0.8701 - val_loss: 0.3110 - learning_rate: 3.1250e-05\n",
      "Epoch 79/150\n",
      "\u001b[1m1302/1302\u001b[0m \u001b[32m━━━━━━━━━━━━━━━━━━━━\u001b[0m\u001b[37m\u001b[0m \u001b[1m170s\u001b[0m 130ms/step - accuracy: 0.8542 - loss: 0.3485 - val_accuracy: 0.8720 - val_loss: 0.3086 - learning_rate: 3.1250e-05\n",
      "Epoch 80/150\n",
      "\u001b[1m1302/1302\u001b[0m \u001b[32m━━━━━━━━━━━━━━━━━━━━\u001b[0m\u001b[37m\u001b[0m \u001b[1m171s\u001b[0m 131ms/step - accuracy: 0.8532 - loss: 0.3522 - val_accuracy: 0.8707 - val_loss: 0.3089 - learning_rate: 1.5625e-05\n"
     ]
    }
   ],
   "source": [
    "model = build_final_model(seq_len=SEQ_LEN)\n",
    "model.compile(optimizer=Adam(learning_rate=0.001), loss='categorical_crossentropy', metrics=['accuracy'])\n",
    "\n",
    "early_stop = EarlyStopping(monitor='val_loss', patience=5, restore_best_weights=True)\n",
    "reduce_lr = ReduceLROnPlateau(monitor='val_loss', factor=0.5, patience=2)\n",
    "\n",
    "history = model.fit([X_rssi_train, X_sinr_train], y_train,\n",
    "                    validation_data=([X_rssi_val, X_sinr_val], y_val),\n",
    "                    epochs=150,\n",
    "                    batch_size=BATCH_SIZE,\n",
    "                    class_weight=class_weights_dict,\n",
    "                    callbacks=[early_stop, reduce_lr],\n",
    "                    verbose=1)\n"
   ]
  },
  {
   "cell_type": "code",
   "execution_count": 12,
   "metadata": {
    "trusted": true
   },
   "outputs": [
    {
     "data": {
      "image/png": "[encoded data removed]",
      "text/plain": [
       "<Figure size 1200x500 with 2 Axes>"
      ]
     },
     "metadata": {},
     "output_type": "display_data"
    }
   ],
   "source": [
    "import matplotlib.pyplot as plt\n",
    "\n",
    "def plot_training_history(history):\n",
    "    plt.figure(figsize=(12, 5))\n",
    "\n",
    "    # Accuracy\n",
    "    plt.subplot(1, 2, 1)\n",
    "    plt.plot(history.history['accuracy'], label='Train Accuracy', marker='o')\n",
    "    plt.plot(history.history['val_accuracy'], label='Val Accuracy', marker='x')\n",
    "    plt.title('Model Accuracy')\n",
    "    plt.xlabel('Epoch')\n",
    "    plt.ylabel('Accuracy')\n",
    "    plt.legend()\n",
    "    plt.grid()\n",
    "\n",
    "    # Loss\n",
    "    plt.subplot(1, 2, 2)\n",
    "    plt.plot(history.history['loss'], label='Train Loss', marker='o')\n",
    "    plt.plot(history.history['val_loss'], label='Val Loss', marker='x')\n",
    "    plt.title('Model Loss')\n",
    "    plt.xlabel('Epoch')\n",
    "    plt.ylabel('Loss')\n",
    "    plt.legend()\n",
    "    plt.grid()\n",
    "\n",
    "    plt.tight_layout()\n",
    "    plt.show()\n",
    "\n",
    "# 📊 Plot the training curve\n",
    "plot_training_history(history)\n"
   ]
  },
  {
   "cell_type": "code",
   "execution_count": 13,
   "metadata": {
    "trusted": true
   },
   "outputs": [
    {
     "name": "stdout",
     "output_type": "stream",
     "text": [
      "✅ Validation Accuracy: 87.26%\n",
      "❌ Validation Loss: 0.3071\n"
     ]
    }
   ],
   "source": [
    "val_loss, val_accuracy = model.evaluate([X_rssi_val, X_sinr_val], y_val, verbose=0)\n",
    "print(f\"✅ Validation Accuracy: {val_accuracy*100:.2f}%\")\n",
    "print(f\"❌ Validation Loss: {val_loss:.4f}\")\n"
   ]
  },
  {
   "cell_type": "code",
   "execution_count": 14,
   "metadata": {
    "trusted": true
   },
   "outputs": [
    {
     "name": "stdout",
     "output_type": "stream",
     "text": [
      "\u001b[1m558/558\u001b[0m \u001b[32m━━━━━━━━━━━━━━━━━━━━\u001b[0m\u001b[37m\u001b[0m \u001b[1m11s\u001b[0m 18ms/step\n",
      "📋 Classification Report:\n",
      "              precision    recall  f1-score   support\n",
      "\n",
      "           0     0.8298    0.9220    0.8735      5960\n",
      "           1     0.9216    0.8480    0.8832      6026\n",
      "           2     0.8747    0.8477    0.8610      5865\n",
      "\n",
      "    accuracy                         0.8726     17851\n",
      "   macro avg     0.8754    0.8726    0.8726     17851\n",
      "weighted avg     0.8755    0.8726    0.8727     17851\n",
      "\n"
     ]
    },
    {
     "name": "stderr",
     "output_type": "stream",
     "text": [
      "C:\\Users\\VEDANT DESHMUKH\\AppData\\Local\\Temp\\ipykernel_235360\\1738817605.py:22: UserWarning: Glyph 128269 (\\N{LEFT-POINTING MAGNIFYING GLASS}) missing from font(s) DejaVu Sans.\n",
      "  plt.tight_layout()\n",
      "c:\\Users\\VEDANT DESHMUKH\\OneDrive\\Desktop\\SEM 8\\CV_Latest\\3mins_IITG_lessAccuracy\\venv\\Lib\\site-packages\\IPython\\core\\pylabtools.py:170: UserWarning: Glyph 128269 (\\N{LEFT-POINTING MAGNIFYING GLASS}) missing from font(s) DejaVu Sans.\n",
      "  fig.canvas.print_figure(bytes_io, **kw)\n"
     ]
    },
    {
     "data": {
      "image/png": "[encoded data removed]",
      "text/plain": [
       "<Figure size 600x500 with 2 Axes>"
      ]
     },
     "metadata": {},
     "output_type": "display_data"
    }
   ],
   "source": [
    "from sklearn.metrics import classification_report, confusion_matrix\n",
    "import seaborn as sns\n",
    "\n",
    "# 📈 Predictions\n",
    "y_pred_probs = model.predict([X_rssi_val, X_sinr_val])\n",
    "y_pred = y_pred_probs.argmax(axis=1)\n",
    "y_true = y_val.argmax(axis=1)\n",
    "\n",
    "# 🧾 Classification Report\n",
    "print(\"📋 Classification Report:\")\n",
    "print(classification_report(y_true, y_pred, digits=4))\n",
    "\n",
    "# 🧊 Confusion Matrix\n",
    "conf_mat = confusion_matrix(y_true, y_pred)\n",
    "plt.figure(figsize=(6, 5))\n",
    "sns.heatmap(conf_mat, annot=True, fmt='d', cmap='Blues',\n",
    "            xticklabels=['No Jam (0)', 'Jam (1)', 'IRS Jam (2)'],\n",
    "            yticklabels=['No Jam (0)', 'Jam (1)', 'IRS Jam (2)'])\n",
    "plt.title('🔍 Confusion Matrix')\n",
    "plt.ylabel('True Label')\n",
    "plt.xlabel('Predicted Label')\n",
    "plt.tight_layout()\n",
    "plt.show()\n"
   ]
  },
  {
   "cell_type": "code",
   "execution_count": 15,
   "metadata": {
    "trusted": true
   },
   "outputs": [
    {
     "name": "stderr",
     "output_type": "stream",
     "text": [
      "WARNING:absl:You are saving your model as an HDF5 file via `model.save()` or `keras.saving.save_model(model)`. This file format is considered legacy. We recommend using instead the native Keras format, e.g. `model.save('my_model.keras')` or `keras.saving.save_model(model, 'my_model.keras')`. \n"
     ]
    },
    {
     "name": "stdout",
     "output_type": "stream",
     "text": [
      "💾 Model saved to 'irs_jam_detection_model.h5'\n"
     ]
    }
   ],
   "source": [
    "# Save model to file\n",
    "model.save('irs_jam_detection_model_300_20.h5')\n",
    "print(\"💾 Model saved to 'irs_jam_detection_model.h5'\")\n"
   ]
  },
  {
   "cell_type": "code",
   "execution_count": 16,
   "metadata": {
    "trusted": true
   },
   "outputs": [
    {
     "name": "stdout",
     "output_type": "stream",
     "text": [
      "\u001b[1m558/558\u001b[0m \u001b[32m━━━━━━━━━━━━━━━━━━━━\u001b[0m\u001b[37m\u001b[0m \u001b[1m9s\u001b[0m 16ms/step\n",
      "📊 Classification Metrics (Per Class):\n",
      "              precision    recall  f1-score       support\n",
      "No Jam         0.829810  0.921980  0.873470   5960.000000\n",
      "Jam            0.921551  0.847992  0.883243   6026.000000\n",
      "IRS Jam        0.874736  0.847741  0.861027   5865.000000\n",
      "accuracy       0.872612  0.872612  0.872612      0.872612\n",
      "macro avg      0.875366  0.872571  0.872580  17851.000000\n",
      "weighted avg   0.875540  0.872612  0.872681  17851.000000\n",
      "\n",
      "✅ Overall Accuracy: 87.26%\n"
     ]
    },
    {
     "name": "stderr",
     "output_type": "stream",
     "text": [
      "C:\\Users\\VEDANT DESHMUKH\\AppData\\Local\\Temp\\ipykernel_235360\\462229197.py:32: UserWarning: Glyph 128269 (\\N{LEFT-POINTING MAGNIFYING GLASS}) missing from font(s) DejaVu Sans.\n",
      "  plt.tight_layout()\n",
      "c:\\Users\\VEDANT DESHMUKH\\OneDrive\\Desktop\\SEM 8\\CV_Latest\\3mins_IITG_lessAccuracy\\venv\\Lib\\site-packages\\IPython\\core\\pylabtools.py:170: UserWarning: Glyph 128269 (\\N{LEFT-POINTING MAGNIFYING GLASS}) missing from font(s) DejaVu Sans.\n",
      "  fig.canvas.print_figure(bytes_io, **kw)\n"
     ]
    },
    {
     "data": {
      "image/png": "[encoded data removed]",
      "text/plain": [
       "<Figure size 600x500 with 2 Axes>"
      ]
     },
     "metadata": {},
     "output_type": "display_data"
    }
   ],
   "source": [
    "from sklearn.metrics import classification_report, confusion_matrix, accuracy_score\n",
    "import pandas as pd\n",
    "import seaborn as sns\n",
    "import matplotlib.pyplot as plt\n",
    "\n",
    "# 🔮 Predict on validation data\n",
    "y_pred_probs = model.predict([X_rssi_val, X_sinr_val])\n",
    "y_pred = y_pred_probs.argmax(axis=1)\n",
    "y_true = y_val.argmax(axis=1)\n",
    "\n",
    "# 📋 Full Classification Report\n",
    "report_dict = classification_report(y_true, y_pred, output_dict=True, target_names=[\"No Jam\", \"Jam\", \"IRS Jam\"])\n",
    "report_df = pd.DataFrame(report_dict).transpose()\n",
    "\n",
    "# 🎯 Print selected metrics neatly\n",
    "print(\"📊 Classification Metrics (Per Class):\")\n",
    "print(report_df[['precision', 'recall', 'f1-score', 'support']])\n",
    "\n",
    "# ✅ Overall accuracy\n",
    "accuracy = accuracy_score(y_true, y_pred)\n",
    "print(f\"\\n✅ Overall Accuracy: {accuracy*100:.2f}%\")\n",
    "\n",
    "# 🧊 Confusion Matrix\n",
    "conf_mat = confusion_matrix(y_true, y_pred)\n",
    "plt.figure(figsize=(6, 5))\n",
    "sns.heatmap(conf_mat, annot=True, fmt='d', cmap='Blues',\n",
    "            xticklabels=[\"No Jam\", \"Jam\", \"IRS Jam\"],\n",
    "            yticklabels=[\"No Jam\", \"Jam\", \"IRS Jam\"])\n",
    "plt.title('🔍 Confusion Matrix')\n",
    "plt.ylabel('True Label')\n",
    "plt.xlabel('Predicted Label')\n",
    "plt.tight_layout()\n",
    "plt.show()\n"
   ]
  },
  {
   "cell_type": "code",
   "execution_count": 17,
   "metadata": {},
   "outputs": [
    {
     "data": {
      "text/html": [
       "<pre style=\"white-space:pre;overflow-x:auto;line-height:normal;font-family:Menlo,'DejaVu Sans Mono',consolas,'Courier New',monospace\"><span style=\"font-weight: bold\">Model: \"functional\"</span>\n",
       "</pre>\n"
      ],
      "text/plain": [
       "\u001b[1mModel: \"functional\"\u001b[0m\n"
      ]
     },
     "metadata": {},
     "output_type": "display_data"
    },
    {
     "data": {
      "text/html": [
       "<pre style=\"white-space:pre;overflow-x:auto;line-height:normal;font-family:Menlo,'DejaVu Sans Mono',consolas,'Courier New',monospace\">┏━━━━━━━━━━━━━━━━━━━━━┳━━━━━━━━━━━━━━━━━━━┳━━━━━━━━━━━━┳━━━━━━━━━━━━━━━━━━━┓\n",
       "┃<span style=\"font-weight: bold\"> Layer (type)        </span>┃<span style=\"font-weight: bold\"> Output Shape      </span>┃<span style=\"font-weight: bold\">    Param # </span>┃<span style=\"font-weight: bold\"> Connected to      </span>┃\n",
       "┡━━━━━━━━━━━━━━━━━━━━━╇━━━━━━━━━━━━━━━━━━━╇━━━━━━━━━━━━╇━━━━━━━━━━━━━━━━━━━┩\n",
       "│ RSSI_Input          │ (<span style=\"color: #00d7ff; text-decoration-color: #00d7ff\">None</span>, <span style=\"color: #00af00; text-decoration-color: #00af00\">300</span>, <span style=\"color: #00af00; text-decoration-color: #00af00\">1</span>)    │          <span style=\"color: #00af00; text-decoration-color: #00af00\">0</span> │ -                 │\n",
       "│ (<span style=\"color: #0087ff; text-decoration-color: #0087ff\">InputLayer</span>)        │                   │            │                   │\n",
       "├─────────────────────┼───────────────────┼────────────┼───────────────────┤\n",
       "│ SINR_Input          │ (<span style=\"color: #00d7ff; text-decoration-color: #00d7ff\">None</span>, <span style=\"color: #00af00; text-decoration-color: #00af00\">300</span>, <span style=\"color: #00af00; text-decoration-color: #00af00\">1</span>)    │          <span style=\"color: #00af00; text-decoration-color: #00af00\">0</span> │ -                 │\n",
       "│ (<span style=\"color: #0087ff; text-decoration-color: #0087ff\">InputLayer</span>)        │                   │            │                   │\n",
       "├─────────────────────┼───────────────────┼────────────┼───────────────────┤\n",
       "│ gaussian_noise      │ (<span style=\"color: #00d7ff; text-decoration-color: #00d7ff\">None</span>, <span style=\"color: #00af00; text-decoration-color: #00af00\">300</span>, <span style=\"color: #00af00; text-decoration-color: #00af00\">1</span>)    │          <span style=\"color: #00af00; text-decoration-color: #00af00\">0</span> │ RSSI_Input[<span style=\"color: #00af00; text-decoration-color: #00af00\">0</span>][<span style=\"color: #00af00; text-decoration-color: #00af00\">0</span>]  │\n",
       "│ (<span style=\"color: #0087ff; text-decoration-color: #0087ff\">GaussianNoise</span>)     │                   │            │                   │\n",
       "├─────────────────────┼───────────────────┼────────────┼───────────────────┤\n",
       "│ gaussian_noise_1    │ (<span style=\"color: #00d7ff; text-decoration-color: #00d7ff\">None</span>, <span style=\"color: #00af00; text-decoration-color: #00af00\">300</span>, <span style=\"color: #00af00; text-decoration-color: #00af00\">1</span>)    │          <span style=\"color: #00af00; text-decoration-color: #00af00\">0</span> │ SINR_Input[<span style=\"color: #00af00; text-decoration-color: #00af00\">0</span>][<span style=\"color: #00af00; text-decoration-color: #00af00\">0</span>]  │\n",
       "│ (<span style=\"color: #0087ff; text-decoration-color: #0087ff\">GaussianNoise</span>)     │                   │            │                   │\n",
       "├─────────────────────┼───────────────────┼────────────┼───────────────────┤\n",
       "│ conv1d (<span style=\"color: #0087ff; text-decoration-color: #0087ff\">Conv1D</span>)     │ (<span style=\"color: #00d7ff; text-decoration-color: #00d7ff\">None</span>, <span style=\"color: #00af00; text-decoration-color: #00af00\">150</span>, <span style=\"color: #00af00; text-decoration-color: #00af00\">16</span>)   │         <span style=\"color: #00af00; text-decoration-color: #00af00\">96</span> │ gaussian_noise[<span style=\"color: #00af00; text-decoration-color: #00af00\">0</span>… │\n",
       "├─────────────────────┼───────────────────┼────────────┼───────────────────┤\n",
       "│ conv1d_2 (<span style=\"color: #0087ff; text-decoration-color: #0087ff\">Conv1D</span>)   │ (<span style=\"color: #00d7ff; text-decoration-color: #00d7ff\">None</span>, <span style=\"color: #00af00; text-decoration-color: #00af00\">150</span>, <span style=\"color: #00af00; text-decoration-color: #00af00\">16</span>)   │         <span style=\"color: #00af00; text-decoration-color: #00af00\">96</span> │ gaussian_noise_1… │\n",
       "├─────────────────────┼───────────────────┼────────────┼───────────────────┤\n",
       "│ layer_normalization │ (<span style=\"color: #00d7ff; text-decoration-color: #00d7ff\">None</span>, <span style=\"color: #00af00; text-decoration-color: #00af00\">150</span>, <span style=\"color: #00af00; text-decoration-color: #00af00\">16</span>)   │         <span style=\"color: #00af00; text-decoration-color: #00af00\">32</span> │ conv1d[<span style=\"color: #00af00; text-decoration-color: #00af00\">0</span>][<span style=\"color: #00af00; text-decoration-color: #00af00\">0</span>]      │\n",
       "│ (<span style=\"color: #0087ff; text-decoration-color: #0087ff\">LayerNormalizatio…</span> │                   │            │                   │\n",
       "├─────────────────────┼───────────────────┼────────────┼───────────────────┤\n",
       "│ layer_normalizatio… │ (<span style=\"color: #00d7ff; text-decoration-color: #00d7ff\">None</span>, <span style=\"color: #00af00; text-decoration-color: #00af00\">150</span>, <span style=\"color: #00af00; text-decoration-color: #00af00\">16</span>)   │         <span style=\"color: #00af00; text-decoration-color: #00af00\">32</span> │ conv1d_2[<span style=\"color: #00af00; text-decoration-color: #00af00\">0</span>][<span style=\"color: #00af00; text-decoration-color: #00af00\">0</span>]    │\n",
       "│ (<span style=\"color: #0087ff; text-decoration-color: #0087ff\">LayerNormalizatio…</span> │                   │            │                   │\n",
       "├─────────────────────┼───────────────────┼────────────┼───────────────────┤\n",
       "│ conv1d_1 (<span style=\"color: #0087ff; text-decoration-color: #0087ff\">Conv1D</span>)   │ (<span style=\"color: #00d7ff; text-decoration-color: #00d7ff\">None</span>, <span style=\"color: #00af00; text-decoration-color: #00af00\">150</span>, <span style=\"color: #00af00; text-decoration-color: #00af00\">32</span>)   │      <span style=\"color: #00af00; text-decoration-color: #00af00\">1,568</span> │ layer_normalizat… │\n",
       "├─────────────────────┼───────────────────┼────────────┼───────────────────┤\n",
       "│ conv1d_3 (<span style=\"color: #0087ff; text-decoration-color: #0087ff\">Conv1D</span>)   │ (<span style=\"color: #00d7ff; text-decoration-color: #00d7ff\">None</span>, <span style=\"color: #00af00; text-decoration-color: #00af00\">150</span>, <span style=\"color: #00af00; text-decoration-color: #00af00\">32</span>)   │      <span style=\"color: #00af00; text-decoration-color: #00af00\">1,568</span> │ layer_normalizat… │\n",
       "├─────────────────────┼───────────────────┼────────────┼───────────────────┤\n",
       "│ layer_normalizatio… │ (<span style=\"color: #00d7ff; text-decoration-color: #00d7ff\">None</span>, <span style=\"color: #00af00; text-decoration-color: #00af00\">150</span>, <span style=\"color: #00af00; text-decoration-color: #00af00\">32</span>)   │         <span style=\"color: #00af00; text-decoration-color: #00af00\">64</span> │ conv1d_1[<span style=\"color: #00af00; text-decoration-color: #00af00\">0</span>][<span style=\"color: #00af00; text-decoration-color: #00af00\">0</span>]    │\n",
       "│ (<span style=\"color: #0087ff; text-decoration-color: #0087ff\">LayerNormalizatio…</span> │                   │            │                   │\n",
       "├─────────────────────┼───────────────────┼────────────┼───────────────────┤\n",
       "│ layer_normalizatio… │ (<span style=\"color: #00d7ff; text-decoration-color: #00d7ff\">None</span>, <span style=\"color: #00af00; text-decoration-color: #00af00\">150</span>, <span style=\"color: #00af00; text-decoration-color: #00af00\">32</span>)   │         <span style=\"color: #00af00; text-decoration-color: #00af00\">64</span> │ conv1d_3[<span style=\"color: #00af00; text-decoration-color: #00af00\">0</span>][<span style=\"color: #00af00; text-decoration-color: #00af00\">0</span>]    │\n",
       "│ (<span style=\"color: #0087ff; text-decoration-color: #0087ff\">LayerNormalizatio…</span> │                   │            │                   │\n",
       "├─────────────────────┼───────────────────┼────────────┼───────────────────┤\n",
       "│ lstm (<span style=\"color: #0087ff; text-decoration-color: #0087ff\">LSTM</span>)         │ (<span style=\"color: #00d7ff; text-decoration-color: #00d7ff\">None</span>, <span style=\"color: #00af00; text-decoration-color: #00af00\">32</span>)        │      <span style=\"color: #00af00; text-decoration-color: #00af00\">8,320</span> │ layer_normalizat… │\n",
       "├─────────────────────┼───────────────────┼────────────┼───────────────────┤\n",
       "│ lstm_1 (<span style=\"color: #0087ff; text-decoration-color: #0087ff\">LSTM</span>)       │ (<span style=\"color: #00d7ff; text-decoration-color: #00d7ff\">None</span>, <span style=\"color: #00af00; text-decoration-color: #00af00\">32</span>)        │      <span style=\"color: #00af00; text-decoration-color: #00af00\">8,320</span> │ layer_normalizat… │\n",
       "├─────────────────────┼───────────────────┼────────────┼───────────────────┤\n",
       "│ concatenate         │ (<span style=\"color: #00d7ff; text-decoration-color: #00d7ff\">None</span>, <span style=\"color: #00af00; text-decoration-color: #00af00\">64</span>)        │          <span style=\"color: #00af00; text-decoration-color: #00af00\">0</span> │ lstm[<span style=\"color: #00af00; text-decoration-color: #00af00\">0</span>][<span style=\"color: #00af00; text-decoration-color: #00af00\">0</span>],       │\n",
       "│ (<span style=\"color: #0087ff; text-decoration-color: #0087ff\">Concatenate</span>)       │                   │            │ lstm_1[<span style=\"color: #00af00; text-decoration-color: #00af00\">0</span>][<span style=\"color: #00af00; text-decoration-color: #00af00\">0</span>]      │\n",
       "├─────────────────────┼───────────────────┼────────────┼───────────────────┤\n",
       "│ dense (<span style=\"color: #0087ff; text-decoration-color: #0087ff\">Dense</span>)       │ (<span style=\"color: #00d7ff; text-decoration-color: #00d7ff\">None</span>, <span style=\"color: #00af00; text-decoration-color: #00af00\">64</span>)        │      <span style=\"color: #00af00; text-decoration-color: #00af00\">4,160</span> │ concatenate[<span style=\"color: #00af00; text-decoration-color: #00af00\">0</span>][<span style=\"color: #00af00; text-decoration-color: #00af00\">0</span>] │\n",
       "├─────────────────────┼───────────────────┼────────────┼───────────────────┤\n",
       "│ dropout (<span style=\"color: #0087ff; text-decoration-color: #0087ff\">Dropout</span>)   │ (<span style=\"color: #00d7ff; text-decoration-color: #00d7ff\">None</span>, <span style=\"color: #00af00; text-decoration-color: #00af00\">64</span>)        │          <span style=\"color: #00af00; text-decoration-color: #00af00\">0</span> │ dense[<span style=\"color: #00af00; text-decoration-color: #00af00\">0</span>][<span style=\"color: #00af00; text-decoration-color: #00af00\">0</span>]       │\n",
       "├─────────────────────┼───────────────────┼────────────┼───────────────────┤\n",
       "│ dense_1 (<span style=\"color: #0087ff; text-decoration-color: #0087ff\">Dense</span>)     │ (<span style=\"color: #00d7ff; text-decoration-color: #00d7ff\">None</span>, <span style=\"color: #00af00; text-decoration-color: #00af00\">32</span>)        │      <span style=\"color: #00af00; text-decoration-color: #00af00\">2,080</span> │ dropout[<span style=\"color: #00af00; text-decoration-color: #00af00\">0</span>][<span style=\"color: #00af00; text-decoration-color: #00af00\">0</span>]     │\n",
       "├─────────────────────┼───────────────────┼────────────┼───────────────────┤\n",
       "│ dropout_1 (<span style=\"color: #0087ff; text-decoration-color: #0087ff\">Dropout</span>) │ (<span style=\"color: #00d7ff; text-decoration-color: #00d7ff\">None</span>, <span style=\"color: #00af00; text-decoration-color: #00af00\">32</span>)        │          <span style=\"color: #00af00; text-decoration-color: #00af00\">0</span> │ dense_1[<span style=\"color: #00af00; text-decoration-color: #00af00\">0</span>][<span style=\"color: #00af00; text-decoration-color: #00af00\">0</span>]     │\n",
       "├─────────────────────┼───────────────────┼────────────┼───────────────────┤\n",
       "│ dense_2 (<span style=\"color: #0087ff; text-decoration-color: #0087ff\">Dense</span>)     │ (<span style=\"color: #00d7ff; text-decoration-color: #00d7ff\">None</span>, <span style=\"color: #00af00; text-decoration-color: #00af00\">16</span>)        │        <span style=\"color: #00af00; text-decoration-color: #00af00\">528</span> │ dropout_1[<span style=\"color: #00af00; text-decoration-color: #00af00\">0</span>][<span style=\"color: #00af00; text-decoration-color: #00af00\">0</span>]   │\n",
       "├─────────────────────┼───────────────────┼────────────┼───────────────────┤\n",
       "│ dense_3 (<span style=\"color: #0087ff; text-decoration-color: #0087ff\">Dense</span>)     │ (<span style=\"color: #00d7ff; text-decoration-color: #00d7ff\">None</span>, <span style=\"color: #00af00; text-decoration-color: #00af00\">3</span>)         │         <span style=\"color: #00af00; text-decoration-color: #00af00\">51</span> │ dense_2[<span style=\"color: #00af00; text-decoration-color: #00af00\">0</span>][<span style=\"color: #00af00; text-decoration-color: #00af00\">0</span>]     │\n",
       "└─────────────────────┴───────────────────┴────────────┴───────────────────┘\n",
       "</pre>\n"
      ],
      "text/plain": [
       "┏━━━━━━━━━━━━━━━━━━━━━┳━━━━━━━━━━━━━━━━━━━┳━━━━━━━━━━━━┳━━━━━━━━━━━━━━━━━━━┓\n",
       "┃\u001b[1m \u001b[0m\u001b[1mLayer (type)       \u001b[0m\u001b[1m \u001b[0m┃\u001b[1m \u001b[0m\u001b[1mOutput Shape     \u001b[0m\u001b[1m \u001b[0m┃\u001b[1m \u001b[0m\u001b[1m   Param #\u001b[0m\u001b[1m \u001b[0m┃\u001b[1m \u001b[0m\u001b[1mConnected to     \u001b[0m\u001b[1m \u001b[0m┃\n",
       "┡━━━━━━━━━━━━━━━━━━━━━╇━━━━━━━━━━━━━━━━━━━╇━━━━━━━━━━━━╇━━━━━━━━━━━━━━━━━━━┩\n",
       "│ RSSI_Input          │ (\u001b[38;5;45mNone\u001b[0m, \u001b[38;5;34m300\u001b[0m, \u001b[38;5;34m1\u001b[0m)    │          \u001b[38;5;34m0\u001b[0m │ -                 │\n",
       "│ (\u001b[38;5;33mInputLayer\u001b[0m)        │                   │            │                   │\n",
       "├─────────────────────┼───────────────────┼────────────┼───────────────────┤\n",
       "│ SINR_Input          │ (\u001b[38;5;45mNone\u001b[0m, \u001b[38;5;34m300\u001b[0m, \u001b[38;5;34m1\u001b[0m)    │          \u001b[38;5;34m0\u001b[0m │ -                 │\n",
       "│ (\u001b[38;5;33mInputLayer\u001b[0m)        │                   │            │                   │\n",
       "├─────────────────────┼───────────────────┼────────────┼───────────────────┤\n",
       "│ gaussian_noise      │ (\u001b[38;5;45mNone\u001b[0m, \u001b[38;5;34m300\u001b[0m, \u001b[38;5;34m1\u001b[0m)    │          \u001b[38;5;34m0\u001b[0m │ RSSI_Input[\u001b[38;5;34m0\u001b[0m][\u001b[38;5;34m0\u001b[0m]  │\n",
       "│ (\u001b[38;5;33mGaussianNoise\u001b[0m)     │                   │            │                   │\n",
       "├─────────────────────┼───────────────────┼────────────┼───────────────────┤\n",
       "│ gaussian_noise_1    │ (\u001b[38;5;45mNone\u001b[0m, \u001b[38;5;34m300\u001b[0m, \u001b[38;5;34m1\u001b[0m)    │          \u001b[38;5;34m0\u001b[0m │ SINR_Input[\u001b[38;5;34m0\u001b[0m][\u001b[38;5;34m0\u001b[0m]  │\n",
       "│ (\u001b[38;5;33mGaussianNoise\u001b[0m)     │                   │            │                   │\n",
       "├─────────────────────┼───────────────────┼────────────┼───────────────────┤\n",
       "│ conv1d (\u001b[38;5;33mConv1D\u001b[0m)     │ (\u001b[38;5;45mNone\u001b[0m, \u001b[38;5;34m150\u001b[0m, \u001b[38;5;34m16\u001b[0m)   │         \u001b[38;5;34m96\u001b[0m │ gaussian_noise[\u001b[38;5;34m0\u001b[0m… │\n",
       "├─────────────────────┼───────────────────┼────────────┼───────────────────┤\n",
       "│ conv1d_2 (\u001b[38;5;33mConv1D\u001b[0m)   │ (\u001b[38;5;45mNone\u001b[0m, \u001b[38;5;34m150\u001b[0m, \u001b[38;5;34m16\u001b[0m)   │         \u001b[38;5;34m96\u001b[0m │ gaussian_noise_1… │\n",
       "├─────────────────────┼───────────────────┼────────────┼───────────────────┤\n",
       "│ layer_normalization │ (\u001b[38;5;45mNone\u001b[0m, \u001b[38;5;34m150\u001b[0m, \u001b[38;5;34m16\u001b[0m)   │         \u001b[38;5;34m32\u001b[0m │ conv1d[\u001b[38;5;34m0\u001b[0m][\u001b[38;5;34m0\u001b[0m]      │\n",
       "│ (\u001b[38;5;33mLayerNormalizatio…\u001b[0m │                   │            │                   │\n",
       "├─────────────────────┼───────────────────┼────────────┼───────────────────┤\n",
       "│ layer_normalizatio… │ (\u001b[38;5;45mNone\u001b[0m, \u001b[38;5;34m150\u001b[0m, \u001b[38;5;34m16\u001b[0m)   │         \u001b[38;5;34m32\u001b[0m │ conv1d_2[\u001b[38;5;34m0\u001b[0m][\u001b[38;5;34m0\u001b[0m]    │\n",
       "│ (\u001b[38;5;33mLayerNormalizatio…\u001b[0m │                   │            │                   │\n",
       "├─────────────────────┼───────────────────┼────────────┼───────────────────┤\n",
       "│ conv1d_1 (\u001b[38;5;33mConv1D\u001b[0m)   │ (\u001b[38;5;45mNone\u001b[0m, \u001b[38;5;34m150\u001b[0m, \u001b[38;5;34m32\u001b[0m)   │      \u001b[38;5;34m1,568\u001b[0m │ layer_normalizat… │\n",
       "├─────────────────────┼───────────────────┼────────────┼───────────────────┤\n",
       "│ conv1d_3 (\u001b[38;5;33mConv1D\u001b[0m)   │ (\u001b[38;5;45mNone\u001b[0m, \u001b[38;5;34m150\u001b[0m, \u001b[38;5;34m32\u001b[0m)   │      \u001b[38;5;34m1,568\u001b[0m │ layer_normalizat… │\n",
       "├─────────────────────┼───────────────────┼────────────┼───────────────────┤\n",
       "│ layer_normalizatio… │ (\u001b[38;5;45mNone\u001b[0m, \u001b[38;5;34m150\u001b[0m, \u001b[38;5;34m32\u001b[0m)   │         \u001b[38;5;34m64\u001b[0m │ conv1d_1[\u001b[38;5;34m0\u001b[0m][\u001b[38;5;34m0\u001b[0m]    │\n",
       "│ (\u001b[38;5;33mLayerNormalizatio…\u001b[0m │                   │            │                   │\n",
       "├─────────────────────┼───────────────────┼────────────┼───────────────────┤\n",
       "│ layer_normalizatio… │ (\u001b[38;5;45mNone\u001b[0m, \u001b[38;5;34m150\u001b[0m, \u001b[38;5;34m32\u001b[0m)   │         \u001b[38;5;34m64\u001b[0m │ conv1d_3[\u001b[38;5;34m0\u001b[0m][\u001b[38;5;34m0\u001b[0m]    │\n",
       "│ (\u001b[38;5;33mLayerNormalizatio…\u001b[0m │                   │            │                   │\n",
       "├─────────────────────┼───────────────────┼────────────┼───────────────────┤\n",
       "│ lstm (\u001b[38;5;33mLSTM\u001b[0m)         │ (\u001b[38;5;45mNone\u001b[0m, \u001b[38;5;34m32\u001b[0m)        │      \u001b[38;5;34m8,320\u001b[0m │ layer_normalizat… │\n",
       "├─────────────────────┼───────────────────┼────────────┼───────────────────┤\n",
       "│ lstm_1 (\u001b[38;5;33mLSTM\u001b[0m)       │ (\u001b[38;5;45mNone\u001b[0m, \u001b[38;5;34m32\u001b[0m)        │      \u001b[38;5;34m8,320\u001b[0m │ layer_normalizat… │\n",
       "├─────────────────────┼───────────────────┼────────────┼───────────────────┤\n",
       "│ concatenate         │ (\u001b[38;5;45mNone\u001b[0m, \u001b[38;5;34m64\u001b[0m)        │          \u001b[38;5;34m0\u001b[0m │ lstm[\u001b[38;5;34m0\u001b[0m][\u001b[38;5;34m0\u001b[0m],       │\n",
       "│ (\u001b[38;5;33mConcatenate\u001b[0m)       │                   │            │ lstm_1[\u001b[38;5;34m0\u001b[0m][\u001b[38;5;34m0\u001b[0m]      │\n",
       "├─────────────────────┼───────────────────┼────────────┼───────────────────┤\n",
       "│ dense (\u001b[38;5;33mDense\u001b[0m)       │ (\u001b[38;5;45mNone\u001b[0m, \u001b[38;5;34m64\u001b[0m)        │      \u001b[38;5;34m4,160\u001b[0m │ concatenate[\u001b[38;5;34m0\u001b[0m][\u001b[38;5;34m0\u001b[0m] │\n",
       "├─────────────────────┼───────────────────┼────────────┼───────────────────┤\n",
       "│ dropout (\u001b[38;5;33mDropout\u001b[0m)   │ (\u001b[38;5;45mNone\u001b[0m, \u001b[38;5;34m64\u001b[0m)        │          \u001b[38;5;34m0\u001b[0m │ dense[\u001b[38;5;34m0\u001b[0m][\u001b[38;5;34m0\u001b[0m]       │\n",
       "├─────────────────────┼───────────────────┼────────────┼───────────────────┤\n",
       "│ dense_1 (\u001b[38;5;33mDense\u001b[0m)     │ (\u001b[38;5;45mNone\u001b[0m, \u001b[38;5;34m32\u001b[0m)        │      \u001b[38;5;34m2,080\u001b[0m │ dropout[\u001b[38;5;34m0\u001b[0m][\u001b[38;5;34m0\u001b[0m]     │\n",
       "├─────────────────────┼───────────────────┼────────────┼───────────────────┤\n",
       "│ dropout_1 (\u001b[38;5;33mDropout\u001b[0m) │ (\u001b[38;5;45mNone\u001b[0m, \u001b[38;5;34m32\u001b[0m)        │          \u001b[38;5;34m0\u001b[0m │ dense_1[\u001b[38;5;34m0\u001b[0m][\u001b[38;5;34m0\u001b[0m]     │\n",
       "├─────────────────────┼───────────────────┼────────────┼───────────────────┤\n",
       "│ dense_2 (\u001b[38;5;33mDense\u001b[0m)     │ (\u001b[38;5;45mNone\u001b[0m, \u001b[38;5;34m16\u001b[0m)        │        \u001b[38;5;34m528\u001b[0m │ dropout_1[\u001b[38;5;34m0\u001b[0m][\u001b[38;5;34m0\u001b[0m]   │\n",
       "├─────────────────────┼───────────────────┼────────────┼───────────────────┤\n",
       "│ dense_3 (\u001b[38;5;33mDense\u001b[0m)     │ (\u001b[38;5;45mNone\u001b[0m, \u001b[38;5;34m3\u001b[0m)         │         \u001b[38;5;34m51\u001b[0m │ dense_2[\u001b[38;5;34m0\u001b[0m][\u001b[38;5;34m0\u001b[0m]     │\n",
       "└─────────────────────┴───────────────────┴────────────┴───────────────────┘\n"
      ]
     },
     "metadata": {},
     "output_type": "display_data"
    },
    {
     "data": {
      "text/html": [
       "<pre style=\"white-space:pre;overflow-x:auto;line-height:normal;font-family:Menlo,'DejaVu Sans Mono',consolas,'Courier New',monospace\"><span style=\"font-weight: bold\"> Total params: </span><span style=\"color: #00af00; text-decoration-color: #00af00\">80,939</span> (316.17 KB)\n",
       "</pre>\n"
      ],
      "text/plain": [
       "\u001b[1m Total params: \u001b[0m\u001b[38;5;34m80,939\u001b[0m (316.17 KB)\n"
      ]
     },
     "metadata": {},
     "output_type": "display_data"
    },
    {
     "data": {
      "text/html": [
       "<pre style=\"white-space:pre;overflow-x:auto;line-height:normal;font-family:Menlo,'DejaVu Sans Mono',consolas,'Courier New',monospace\"><span style=\"font-weight: bold\"> Trainable params: </span><span style=\"color: #00af00; text-decoration-color: #00af00\">26,979</span> (105.39 KB)\n",
       "</pre>\n"
      ],
      "text/plain": [
       "\u001b[1m Trainable params: \u001b[0m\u001b[38;5;34m26,979\u001b[0m (105.39 KB)\n"
      ]
     },
     "metadata": {},
     "output_type": "display_data"
    },
    {
     "data": {
      "text/html": [
       "<pre style=\"white-space:pre;overflow-x:auto;line-height:normal;font-family:Menlo,'DejaVu Sans Mono',consolas,'Courier New',monospace\"><span style=\"font-weight: bold\"> Non-trainable params: </span><span style=\"color: #00af00; text-decoration-color: #00af00\">0</span> (0.00 B)\n",
       "</pre>\n"
      ],
      "text/plain": [
       "\u001b[1m Non-trainable params: \u001b[0m\u001b[38;5;34m0\u001b[0m (0.00 B)\n"
      ]
     },
     "metadata": {},
     "output_type": "display_data"
    },
    {
     "data": {
      "text/html": [
       "<pre style=\"white-space:pre;overflow-x:auto;line-height:normal;font-family:Menlo,'DejaVu Sans Mono',consolas,'Courier New',monospace\"><span style=\"font-weight: bold\"> Optimizer params: </span><span style=\"color: #00af00; text-decoration-color: #00af00\">53,960</span> (210.79 KB)\n",
       "</pre>\n"
      ],
      "text/plain": [
       "\u001b[1m Optimizer params: \u001b[0m\u001b[38;5;34m53,960\u001b[0m (210.79 KB)\n"
      ]
     },
     "metadata": {},
     "output_type": "display_data"
    }
   ],
   "source": [
    "model.summary()\n",
    "\n",
    "# STOP STOP STOP below cgboost, Random Forest"
   ]
  },
  {
   "cell_type": "code",
   "execution_count": 12,
   "metadata": {
    "trusted": true
   },
   "outputs": [
    {
     "name": "stderr",
     "output_type": "stream",
     "text": [
      "WARNING:absl:Compiled the loaded model, but the compiled metrics have yet to be built. `model.compile_metrics` will be empty until you train or evaluate the model.\n"
     ]
    }
   ],
   "source": [
    "from tensorflow.keras.models import load_model\n",
    "model = load_model(\"irs_jam_detection_model_300_20.h5\")\n"
   ]
  },
  {
   "cell_type": "code",
   "execution_count": 13,
   "metadata": {},
   "outputs": [
    {
     "name": "stdout",
     "output_type": "stream",
     "text": [
      "\u001b[1m1302/1302\u001b[0m \u001b[32m━━━━━━━━━━━━━━━━━━━━\u001b[0m\u001b[37m\u001b[0m \u001b[1m27s\u001b[0m 19ms/step - accuracy: 0.8840 - loss: 0.2816\n",
      "✅ Train Accuracy: 88.31%\n"
     ]
    }
   ],
   "source": [
    "train_loss, train_accuracy = model.evaluate([X_rssi_train, X_sinr_train], y_train, verbose=1)\n",
    "print(f\"✅ Train Accuracy: {train_accuracy * 100:.2f}%\")"
   ]
  },
  {
   "cell_type": "code",
   "execution_count": 14,
   "metadata": {},
   "outputs": [
    {
     "name": "stdout",
     "output_type": "stream",
     "text": [
      "\u001b[1m558/558\u001b[0m \u001b[32m━━━━━━━━━━━━━━━━━━━━\u001b[0m\u001b[37m\u001b[0m \u001b[1m11s\u001b[0m 20ms/step - accuracy: 0.8725 - loss: 0.3077\n",
      "✅ Validation Accuracy: 87.23%\n"
     ]
    }
   ],
   "source": [
    "val_loss, val_accuracy = model.evaluate([X_rssi_val, X_sinr_val], y_val, verbose=1)\n",
    "print(f\"✅ Validation Accuracy: {val_accuracy * 100:.2f}%\")\n"
   ]
  },
  {
   "cell_type": "code",
   "execution_count": null,
   "metadata": {},
   "outputs": [],
   "source": []
  }
 ],
 "metadata": {
  "kaggle": {
   "accelerator": "none",
   "dataSources": [
    {
     "datasetId": 7942285,
     "sourceId": 12575938,
     "sourceType": "datasetVersion"
    }
   ],
   "dockerImageVersionId": 31089,
   "isGpuEnabled": false,
   "isInternetEnabled": true,
   "language": "python",
   "sourceType": "notebook"
  },
  "kernelspec": {
   "display_name": "Python 3",
   "language": "python",
   "name": "python3"
  },
  "language_info": {
   "codemirror_mode": {
    "name": "ipython",
    "version": 3
   },
   "file_extension": ".py",
   "mimetype": "text/x-python",
   "name": "python",
   "nbconvert_exporter": "python",
   "pygments_lexer": "ipython3",
   "version": "3.12.4"
  }
 },
 "nbformat": 4,
 "nbformat_minor": 4
}
